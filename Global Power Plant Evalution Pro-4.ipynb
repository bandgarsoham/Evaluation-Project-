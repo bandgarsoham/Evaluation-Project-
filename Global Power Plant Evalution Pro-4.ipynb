{
 "cells": [
  {
   "cell_type": "markdown",
   "id": "878a3e11",
   "metadata": {},
   "source": [
    "### importing Modules"
   ]
  },
  {
   "cell_type": "code",
   "execution_count": 1,
   "id": "5f3fd451",
   "metadata": {},
   "outputs": [],
   "source": [
    "import pandas as pd                                        \n",
    "import seaborn as sns\n",
    "import matplotlib.pyplot as plt\n",
    "import sklearn\n",
    "import numpy as np\n",
    "import warnings\n",
    "warnings.filterwarnings('ignore')"
   ]
  },
  {
   "cell_type": "markdown",
   "id": "eea2c987",
   "metadata": {},
   "source": [
    "### Loding The Dataset"
   ]
  },
  {
   "cell_type": "code",
   "execution_count": 2,
   "id": "92a3909b",
   "metadata": {},
   "outputs": [
    {
     "data": {
      "text/html": [
       "<div>\n",
       "<style scoped>\n",
       "    .dataframe tbody tr th:only-of-type {\n",
       "        vertical-align: middle;\n",
       "    }\n",
       "\n",
       "    .dataframe tbody tr th {\n",
       "        vertical-align: top;\n",
       "    }\n",
       "\n",
       "    .dataframe thead th {\n",
       "        text-align: right;\n",
       "    }\n",
       "</style>\n",
       "<table border=\"1\" class=\"dataframe\">\n",
       "  <thead>\n",
       "    <tr style=\"text-align: right;\">\n",
       "      <th></th>\n",
       "      <th>country</th>\n",
       "      <th>country_long</th>\n",
       "      <th>name</th>\n",
       "      <th>gppd_idnr</th>\n",
       "      <th>capacity_mw</th>\n",
       "      <th>latitude</th>\n",
       "      <th>longitude</th>\n",
       "      <th>primary_fuel</th>\n",
       "      <th>other_fuel1</th>\n",
       "      <th>other_fuel2</th>\n",
       "      <th>...</th>\n",
       "      <th>geolocation_source</th>\n",
       "      <th>wepp_id</th>\n",
       "      <th>year_of_capacity_data</th>\n",
       "      <th>generation_gwh_2013</th>\n",
       "      <th>generation_gwh_2014</th>\n",
       "      <th>generation_gwh_2015</th>\n",
       "      <th>generation_gwh_2016</th>\n",
       "      <th>generation_gwh_2017</th>\n",
       "      <th>generation_data_source</th>\n",
       "      <th>estimated_generation_gwh</th>\n",
       "    </tr>\n",
       "  </thead>\n",
       "  <tbody>\n",
       "    <tr>\n",
       "      <th>0</th>\n",
       "      <td>IND</td>\n",
       "      <td>India</td>\n",
       "      <td>ACME Solar Tower</td>\n",
       "      <td>WRI1020239</td>\n",
       "      <td>2.5</td>\n",
       "      <td>28.1839</td>\n",
       "      <td>73.2407</td>\n",
       "      <td>Solar</td>\n",
       "      <td>NaN</td>\n",
       "      <td>NaN</td>\n",
       "      <td>...</td>\n",
       "      <td>National Renewable Energy Laboratory</td>\n",
       "      <td>NaN</td>\n",
       "      <td>NaN</td>\n",
       "      <td>NaN</td>\n",
       "      <td>NaN</td>\n",
       "      <td>NaN</td>\n",
       "      <td>NaN</td>\n",
       "      <td>NaN</td>\n",
       "      <td>NaN</td>\n",
       "      <td>NaN</td>\n",
       "    </tr>\n",
       "    <tr>\n",
       "      <th>1</th>\n",
       "      <td>IND</td>\n",
       "      <td>India</td>\n",
       "      <td>ADITYA CEMENT WORKS</td>\n",
       "      <td>WRI1019881</td>\n",
       "      <td>98.0</td>\n",
       "      <td>24.7663</td>\n",
       "      <td>74.6090</td>\n",
       "      <td>Coal</td>\n",
       "      <td>NaN</td>\n",
       "      <td>NaN</td>\n",
       "      <td>...</td>\n",
       "      <td>WRI</td>\n",
       "      <td>NaN</td>\n",
       "      <td>NaN</td>\n",
       "      <td>NaN</td>\n",
       "      <td>NaN</td>\n",
       "      <td>NaN</td>\n",
       "      <td>NaN</td>\n",
       "      <td>NaN</td>\n",
       "      <td>NaN</td>\n",
       "      <td>NaN</td>\n",
       "    </tr>\n",
       "    <tr>\n",
       "      <th>2</th>\n",
       "      <td>IND</td>\n",
       "      <td>India</td>\n",
       "      <td>AES Saurashtra Windfarms</td>\n",
       "      <td>WRI1026669</td>\n",
       "      <td>39.2</td>\n",
       "      <td>21.9038</td>\n",
       "      <td>69.3732</td>\n",
       "      <td>Wind</td>\n",
       "      <td>NaN</td>\n",
       "      <td>NaN</td>\n",
       "      <td>...</td>\n",
       "      <td>WRI</td>\n",
       "      <td>NaN</td>\n",
       "      <td>NaN</td>\n",
       "      <td>NaN</td>\n",
       "      <td>NaN</td>\n",
       "      <td>NaN</td>\n",
       "      <td>NaN</td>\n",
       "      <td>NaN</td>\n",
       "      <td>NaN</td>\n",
       "      <td>NaN</td>\n",
       "    </tr>\n",
       "    <tr>\n",
       "      <th>3</th>\n",
       "      <td>IND</td>\n",
       "      <td>India</td>\n",
       "      <td>AGARTALA GT</td>\n",
       "      <td>IND0000001</td>\n",
       "      <td>135.0</td>\n",
       "      <td>23.8712</td>\n",
       "      <td>91.3602</td>\n",
       "      <td>Gas</td>\n",
       "      <td>NaN</td>\n",
       "      <td>NaN</td>\n",
       "      <td>...</td>\n",
       "      <td>WRI</td>\n",
       "      <td>NaN</td>\n",
       "      <td>2018.0</td>\n",
       "      <td>631.777928</td>\n",
       "      <td>617.789264</td>\n",
       "      <td>843.747000</td>\n",
       "      <td>886.004428</td>\n",
       "      <td>663.774500</td>\n",
       "      <td>Central Electricity Authority</td>\n",
       "      <td>NaN</td>\n",
       "    </tr>\n",
       "    <tr>\n",
       "      <th>4</th>\n",
       "      <td>IND</td>\n",
       "      <td>India</td>\n",
       "      <td>AKALTARA TPP</td>\n",
       "      <td>IND0000002</td>\n",
       "      <td>1800.0</td>\n",
       "      <td>21.9603</td>\n",
       "      <td>82.4091</td>\n",
       "      <td>Coal</td>\n",
       "      <td>Oil</td>\n",
       "      <td>NaN</td>\n",
       "      <td>...</td>\n",
       "      <td>WRI</td>\n",
       "      <td>NaN</td>\n",
       "      <td>2018.0</td>\n",
       "      <td>1668.290000</td>\n",
       "      <td>3035.550000</td>\n",
       "      <td>5916.370000</td>\n",
       "      <td>6243.000000</td>\n",
       "      <td>5385.579736</td>\n",
       "      <td>Central Electricity Authority</td>\n",
       "      <td>NaN</td>\n",
       "    </tr>\n",
       "    <tr>\n",
       "      <th>...</th>\n",
       "      <td>...</td>\n",
       "      <td>...</td>\n",
       "      <td>...</td>\n",
       "      <td>...</td>\n",
       "      <td>...</td>\n",
       "      <td>...</td>\n",
       "      <td>...</td>\n",
       "      <td>...</td>\n",
       "      <td>...</td>\n",
       "      <td>...</td>\n",
       "      <td>...</td>\n",
       "      <td>...</td>\n",
       "      <td>...</td>\n",
       "      <td>...</td>\n",
       "      <td>...</td>\n",
       "      <td>...</td>\n",
       "      <td>...</td>\n",
       "      <td>...</td>\n",
       "      <td>...</td>\n",
       "      <td>...</td>\n",
       "      <td>...</td>\n",
       "    </tr>\n",
       "    <tr>\n",
       "      <th>903</th>\n",
       "      <td>IND</td>\n",
       "      <td>India</td>\n",
       "      <td>YERMARUS TPP</td>\n",
       "      <td>IND0000513</td>\n",
       "      <td>1600.0</td>\n",
       "      <td>16.2949</td>\n",
       "      <td>77.3568</td>\n",
       "      <td>Coal</td>\n",
       "      <td>Oil</td>\n",
       "      <td>NaN</td>\n",
       "      <td>...</td>\n",
       "      <td>WRI</td>\n",
       "      <td>NaN</td>\n",
       "      <td>2018.0</td>\n",
       "      <td>NaN</td>\n",
       "      <td>NaN</td>\n",
       "      <td>0.994875</td>\n",
       "      <td>233.596650</td>\n",
       "      <td>865.400000</td>\n",
       "      <td>Central Electricity Authority</td>\n",
       "      <td>NaN</td>\n",
       "    </tr>\n",
       "    <tr>\n",
       "      <th>904</th>\n",
       "      <td>IND</td>\n",
       "      <td>India</td>\n",
       "      <td>Yelesandra Solar Power Plant</td>\n",
       "      <td>WRI1026222</td>\n",
       "      <td>3.0</td>\n",
       "      <td>12.8932</td>\n",
       "      <td>78.1654</td>\n",
       "      <td>Solar</td>\n",
       "      <td>NaN</td>\n",
       "      <td>NaN</td>\n",
       "      <td>...</td>\n",
       "      <td>Industry About</td>\n",
       "      <td>NaN</td>\n",
       "      <td>NaN</td>\n",
       "      <td>NaN</td>\n",
       "      <td>NaN</td>\n",
       "      <td>NaN</td>\n",
       "      <td>NaN</td>\n",
       "      <td>NaN</td>\n",
       "      <td>NaN</td>\n",
       "      <td>NaN</td>\n",
       "    </tr>\n",
       "    <tr>\n",
       "      <th>905</th>\n",
       "      <td>IND</td>\n",
       "      <td>India</td>\n",
       "      <td>Yelisirur wind power project</td>\n",
       "      <td>WRI1026776</td>\n",
       "      <td>25.5</td>\n",
       "      <td>15.2758</td>\n",
       "      <td>75.5811</td>\n",
       "      <td>Wind</td>\n",
       "      <td>NaN</td>\n",
       "      <td>NaN</td>\n",
       "      <td>...</td>\n",
       "      <td>WRI</td>\n",
       "      <td>NaN</td>\n",
       "      <td>NaN</td>\n",
       "      <td>NaN</td>\n",
       "      <td>NaN</td>\n",
       "      <td>NaN</td>\n",
       "      <td>NaN</td>\n",
       "      <td>NaN</td>\n",
       "      <td>NaN</td>\n",
       "      <td>NaN</td>\n",
       "    </tr>\n",
       "    <tr>\n",
       "      <th>906</th>\n",
       "      <td>IND</td>\n",
       "      <td>India</td>\n",
       "      <td>ZAWAR MINES</td>\n",
       "      <td>WRI1019901</td>\n",
       "      <td>80.0</td>\n",
       "      <td>24.3500</td>\n",
       "      <td>73.7477</td>\n",
       "      <td>Coal</td>\n",
       "      <td>NaN</td>\n",
       "      <td>NaN</td>\n",
       "      <td>...</td>\n",
       "      <td>WRI</td>\n",
       "      <td>NaN</td>\n",
       "      <td>NaN</td>\n",
       "      <td>NaN</td>\n",
       "      <td>NaN</td>\n",
       "      <td>NaN</td>\n",
       "      <td>NaN</td>\n",
       "      <td>NaN</td>\n",
       "      <td>NaN</td>\n",
       "      <td>NaN</td>\n",
       "    </tr>\n",
       "    <tr>\n",
       "      <th>907</th>\n",
       "      <td>IND</td>\n",
       "      <td>India</td>\n",
       "      <td>iEnergy Theni Wind Farm</td>\n",
       "      <td>WRI1026761</td>\n",
       "      <td>16.5</td>\n",
       "      <td>9.9344</td>\n",
       "      <td>77.4768</td>\n",
       "      <td>Wind</td>\n",
       "      <td>NaN</td>\n",
       "      <td>NaN</td>\n",
       "      <td>...</td>\n",
       "      <td>WRI</td>\n",
       "      <td>NaN</td>\n",
       "      <td>NaN</td>\n",
       "      <td>NaN</td>\n",
       "      <td>NaN</td>\n",
       "      <td>NaN</td>\n",
       "      <td>NaN</td>\n",
       "      <td>NaN</td>\n",
       "      <td>NaN</td>\n",
       "      <td>NaN</td>\n",
       "    </tr>\n",
       "  </tbody>\n",
       "</table>\n",
       "<p>908 rows × 25 columns</p>\n",
       "</div>"
      ],
      "text/plain": [
       "    country country_long                          name   gppd_idnr  \\\n",
       "0       IND        India              ACME Solar Tower  WRI1020239   \n",
       "1       IND        India           ADITYA CEMENT WORKS  WRI1019881   \n",
       "2       IND        India      AES Saurashtra Windfarms  WRI1026669   \n",
       "3       IND        India                   AGARTALA GT  IND0000001   \n",
       "4       IND        India                  AKALTARA TPP  IND0000002   \n",
       "..      ...          ...                           ...         ...   \n",
       "903     IND        India                  YERMARUS TPP  IND0000513   \n",
       "904     IND        India  Yelesandra Solar Power Plant  WRI1026222   \n",
       "905     IND        India  Yelisirur wind power project  WRI1026776   \n",
       "906     IND        India                   ZAWAR MINES  WRI1019901   \n",
       "907     IND        India       iEnergy Theni Wind Farm  WRI1026761   \n",
       "\n",
       "     capacity_mw  latitude  longitude primary_fuel other_fuel1 other_fuel2  \\\n",
       "0            2.5   28.1839    73.2407        Solar         NaN         NaN   \n",
       "1           98.0   24.7663    74.6090         Coal         NaN         NaN   \n",
       "2           39.2   21.9038    69.3732         Wind         NaN         NaN   \n",
       "3          135.0   23.8712    91.3602          Gas         NaN         NaN   \n",
       "4         1800.0   21.9603    82.4091         Coal         Oil         NaN   \n",
       "..           ...       ...        ...          ...         ...         ...   \n",
       "903       1600.0   16.2949    77.3568         Coal         Oil         NaN   \n",
       "904          3.0   12.8932    78.1654        Solar         NaN         NaN   \n",
       "905         25.5   15.2758    75.5811         Wind         NaN         NaN   \n",
       "906         80.0   24.3500    73.7477         Coal         NaN         NaN   \n",
       "907         16.5    9.9344    77.4768         Wind         NaN         NaN   \n",
       "\n",
       "     ...                    geolocation_source  wepp_id year_of_capacity_data  \\\n",
       "0    ...  National Renewable Energy Laboratory      NaN                   NaN   \n",
       "1    ...                                   WRI      NaN                   NaN   \n",
       "2    ...                                   WRI      NaN                   NaN   \n",
       "3    ...                                   WRI      NaN                2018.0   \n",
       "4    ...                                   WRI      NaN                2018.0   \n",
       "..   ...                                   ...      ...                   ...   \n",
       "903  ...                                   WRI      NaN                2018.0   \n",
       "904  ...                        Industry About      NaN                   NaN   \n",
       "905  ...                                   WRI      NaN                   NaN   \n",
       "906  ...                                   WRI      NaN                   NaN   \n",
       "907  ...                                   WRI      NaN                   NaN   \n",
       "\n",
       "    generation_gwh_2013 generation_gwh_2014 generation_gwh_2015  \\\n",
       "0                   NaN                 NaN                 NaN   \n",
       "1                   NaN                 NaN                 NaN   \n",
       "2                   NaN                 NaN                 NaN   \n",
       "3            631.777928          617.789264          843.747000   \n",
       "4           1668.290000         3035.550000         5916.370000   \n",
       "..                  ...                 ...                 ...   \n",
       "903                 NaN                 NaN            0.994875   \n",
       "904                 NaN                 NaN                 NaN   \n",
       "905                 NaN                 NaN                 NaN   \n",
       "906                 NaN                 NaN                 NaN   \n",
       "907                 NaN                 NaN                 NaN   \n",
       "\n",
       "     generation_gwh_2016  generation_gwh_2017         generation_data_source  \\\n",
       "0                    NaN                  NaN                            NaN   \n",
       "1                    NaN                  NaN                            NaN   \n",
       "2                    NaN                  NaN                            NaN   \n",
       "3             886.004428           663.774500  Central Electricity Authority   \n",
       "4            6243.000000          5385.579736  Central Electricity Authority   \n",
       "..                   ...                  ...                            ...   \n",
       "903           233.596650           865.400000  Central Electricity Authority   \n",
       "904                  NaN                  NaN                            NaN   \n",
       "905                  NaN                  NaN                            NaN   \n",
       "906                  NaN                  NaN                            NaN   \n",
       "907                  NaN                  NaN                            NaN   \n",
       "\n",
       "     estimated_generation_gwh  \n",
       "0                         NaN  \n",
       "1                         NaN  \n",
       "2                         NaN  \n",
       "3                         NaN  \n",
       "4                         NaN  \n",
       "..                        ...  \n",
       "903                       NaN  \n",
       "904                       NaN  \n",
       "905                       NaN  \n",
       "906                       NaN  \n",
       "907                       NaN  \n",
       "\n",
       "[908 rows x 25 columns]"
      ]
     },
     "execution_count": 2,
     "metadata": {},
     "output_type": "execute_result"
    }
   ],
   "source": [
    "df=pd.read_csv(\"https://raw.githubusercontent.com/wri/global-power-plant-database/master/source_databases_csv/database_IND.csv\")\n",
    "df"
   ]
  },
  {
   "cell_type": "code",
   "execution_count": 3,
   "id": "c1eb3eee",
   "metadata": {
    "scrolled": true
   },
   "outputs": [
    {
     "name": "stdout",
     "output_type": "stream",
     "text": [
      "<class 'pandas.core.frame.DataFrame'>\n",
      "RangeIndex: 908 entries, 0 to 907\n",
      "Data columns (total 25 columns):\n",
      " #   Column                    Non-Null Count  Dtype  \n",
      "---  ------                    --------------  -----  \n",
      " 0   country                   908 non-null    object \n",
      " 1   country_long              908 non-null    object \n",
      " 2   name                      908 non-null    object \n",
      " 3   gppd_idnr                 908 non-null    object \n",
      " 4   capacity_mw               908 non-null    float64\n",
      " 5   latitude                  862 non-null    float64\n",
      " 6   longitude                 862 non-null    float64\n",
      " 7   primary_fuel              908 non-null    object \n",
      " 8   other_fuel1               199 non-null    object \n",
      " 9   other_fuel2               1 non-null      object \n",
      " 10  other_fuel3               0 non-null      float64\n",
      " 11  commissioning_year        528 non-null    float64\n",
      " 12  owner                     342 non-null    object \n",
      " 13  source                    908 non-null    object \n",
      " 14  url                       908 non-null    object \n",
      " 15  geolocation_source        889 non-null    object \n",
      " 16  wepp_id                   0 non-null      float64\n",
      " 17  year_of_capacity_data     520 non-null    float64\n",
      " 18  generation_gwh_2013       384 non-null    float64\n",
      " 19  generation_gwh_2014       401 non-null    float64\n",
      " 20  generation_gwh_2015       425 non-null    float64\n",
      " 21  generation_gwh_2016       437 non-null    float64\n",
      " 22  generation_gwh_2017       443 non-null    float64\n",
      " 23  generation_data_source    450 non-null    object \n",
      " 24  estimated_generation_gwh  0 non-null      float64\n",
      "dtypes: float64(13), object(12)\n",
      "memory usage: 177.5+ KB\n"
     ]
    }
   ],
   "source": [
    "df.info()"
   ]
  },
  {
   "cell_type": "raw",
   "id": "5aae3c4e",
   "metadata": {},
   "source": [
    "We see that we have a mixture of categorical and numeric columns. We have 12 float columns and 12 object type columns.\n",
    "We observe that the count of entries is 908 for some columns and some columns having missing values,\n",
    "hence  NaN values are present in our dataset."
   ]
  },
  {
   "cell_type": "code",
   "execution_count": 4,
   "id": "2a89efff",
   "metadata": {},
   "outputs": [
    {
     "data": {
      "text/plain": [
       "country                       0\n",
       "country_long                  0\n",
       "name                          0\n",
       "gppd_idnr                     0\n",
       "capacity_mw                   0\n",
       "latitude                     46\n",
       "longitude                    46\n",
       "primary_fuel                  0\n",
       "other_fuel1                 709\n",
       "other_fuel2                 907\n",
       "other_fuel3                 908\n",
       "commissioning_year          380\n",
       "owner                       566\n",
       "source                        0\n",
       "url                           0\n",
       "geolocation_source           19\n",
       "wepp_id                     908\n",
       "year_of_capacity_data       388\n",
       "generation_gwh_2013         524\n",
       "generation_gwh_2014         507\n",
       "generation_gwh_2015         483\n",
       "generation_gwh_2016         471\n",
       "generation_gwh_2017         465\n",
       "generation_data_source      458\n",
       "estimated_generation_gwh    908\n",
       "dtype: int64"
      ]
     },
     "execution_count": 4,
     "metadata": {},
     "output_type": "execute_result"
    }
   ],
   "source": [
    "df.isnull().sum() # dataset having much Missing values."
   ]
  },
  {
   "cell_type": "code",
   "execution_count": 5,
   "id": "c98fe744",
   "metadata": {},
   "outputs": [
    {
     "data": {
      "text/plain": [
       "<AxesSubplot:>"
      ]
     },
     "execution_count": 5,
     "metadata": {},
     "output_type": "execute_result"
    },
    {
     "data": {
      "image/png": "[encoded data removed]",
      "text/plain": [
       "<Figure size 432x288 with 2 Axes>"
      ]
     },
     "metadata": {
      "needs_background": "light"
     },
     "output_type": "display_data"
    }
   ],
   "source": [
    "sns.heatmap(df.isnull()) # missing values are more ."
   ]
  },
  {
   "cell_type": "markdown",
   "id": "2559bfb3",
   "metadata": {},
   "source": [
    "### Preprocessing the Dataset"
   ]
  },
  {
   "cell_type": "code",
   "execution_count": 6,
   "id": "eec40419",
   "metadata": {},
   "outputs": [
    {
     "data": {
      "text/plain": [
       "count     908.000000\n",
       "mean      321.046378\n",
       "std       580.221767\n",
       "min         0.000000\n",
       "25%        16.837500\n",
       "50%        60.000000\n",
       "75%       388.125000\n",
       "max      4760.000000\n",
       "Name: capacity_mw, dtype: float64"
      ]
     },
     "execution_count": 6,
     "metadata": {},
     "output_type": "execute_result"
    }
   ],
   "source": [
    "df.capacity_mw.describe()\n",
    "# basic info of capacity_mw column.so this column while taking as target column that time we need to slove as regression method"
   ]
  },
  {
   "cell_type": "code",
   "execution_count": 7,
   "id": "86359a34",
   "metadata": {},
   "outputs": [
    {
     "data": {
      "text/plain": [
       "count      908\n",
       "unique       8\n",
       "top       Coal\n",
       "freq       259\n",
       "Name: primary_fuel, dtype: object"
      ]
     },
     "execution_count": 7,
     "metadata": {},
     "output_type": "execute_result"
    }
   ],
   "source": [
    "df.primary_fuel.describe()\n",
    "# basic info of primary_fuel column.so this column while taking as target column that time we need to slove as\n",
    "#classification method."
   ]
  },
  {
   "cell_type": "markdown",
   "id": "9b843803",
   "metadata": {},
   "source": [
    "### first we take primary fuel as target column"
   ]
  },
  {
   "cell_type": "code",
   "execution_count": 8,
   "id": "8d497d3e",
   "metadata": {
    "scrolled": true
   },
   "outputs": [
    {
     "data": {
      "text/plain": [
       "Coal       259\n",
       "Hydro      250\n",
       "Solar      127\n",
       "Wind       123\n",
       "Gas         69\n",
       "Biomass     50\n",
       "Oil         21\n",
       "Nuclear      9\n",
       "Name: primary_fuel, dtype: int64"
      ]
     },
     "execution_count": 8,
     "metadata": {},
     "output_type": "execute_result"
    }
   ],
   "source": [
    "df.primary_fuel.value_counts()# Coal amount is more as compare to other primary fuel. "
   ]
  },
  {
   "cell_type": "code",
   "execution_count": 9,
   "id": "fce51f5e",
   "metadata": {},
   "outputs": [
    {
     "data": {
      "text/plain": [
       "(array([0, 1, 2, 3, 4, 5, 6, 7]),\n",
       " [Text(0, 0, 'Solar'),\n",
       "  Text(1, 0, 'Coal'),\n",
       "  Text(2, 0, 'Wind'),\n",
       "  Text(3, 0, 'Gas'),\n",
       "  Text(4, 0, 'Hydro'),\n",
       "  Text(5, 0, 'Biomass'),\n",
       "  Text(6, 0, 'Oil'),\n",
       "  Text(7, 0, 'Nuclear')])"
      ]
     },
     "execution_count": 9,
     "metadata": {},
     "output_type": "execute_result"
    },
    {
     "data": {
      "image/png": "[encoded data removed]",
      "text/plain": [
       "<Figure size 432x288 with 1 Axes>"
      ]
     },
     "metadata": {
      "needs_background": "light"
     },
     "output_type": "display_data"
    }
   ],
   "source": [
    "sns.countplot(df.primary_fuel)\n",
    "plt.xticks(rotation=90)"
   ]
  },
  {
   "cell_type": "code",
   "execution_count": 10,
   "id": "4f91523b",
   "metadata": {},
   "outputs": [],
   "source": [
    "from sklearn.preprocessing import LabelEncoder # having string data need to convert into numric for further calculations.\n",
    "lb=LabelEncoder()\n",
    "df['primary_fuel']=lb.fit_transform(df['primary_fuel'])"
   ]
  },
  {
   "cell_type": "code",
   "execution_count": 11,
   "id": "3c6f4c35",
   "metadata": {},
   "outputs": [
    {
     "data": {
      "text/plain": [
       "1    259\n",
       "3    250\n",
       "6    127\n",
       "7    123\n",
       "2     69\n",
       "0     50\n",
       "5     21\n",
       "4      9\n",
       "Name: primary_fuel, dtype: int64"
      ]
     },
     "execution_count": 11,
     "metadata": {},
     "output_type": "execute_result"
    }
   ],
   "source": [
    "df.primary_fuel.value_counts() # convert into numric."
   ]
  },
  {
   "cell_type": "markdown",
   "id": "2df7f5c9",
   "metadata": {},
   "source": [
    "### Exploratory Data analysis(EDA)"
   ]
  },
  {
   "cell_type": "code",
   "execution_count": 12,
   "id": "7af97c90",
   "metadata": {},
   "outputs": [
    {
     "data": {
      "text/html": [
       "<div>\n",
       "<style scoped>\n",
       "    .dataframe tbody tr th:only-of-type {\n",
       "        vertical-align: middle;\n",
       "    }\n",
       "\n",
       "    .dataframe tbody tr th {\n",
       "        vertical-align: top;\n",
       "    }\n",
       "\n",
       "    .dataframe thead th {\n",
       "        text-align: right;\n",
       "    }\n",
       "</style>\n",
       "<table border=\"1\" class=\"dataframe\">\n",
       "  <thead>\n",
       "    <tr style=\"text-align: right;\">\n",
       "      <th></th>\n",
       "      <th>capacity_mw</th>\n",
       "      <th>latitude</th>\n",
       "      <th>longitude</th>\n",
       "      <th>primary_fuel</th>\n",
       "      <th>other_fuel3</th>\n",
       "      <th>commissioning_year</th>\n",
       "      <th>wepp_id</th>\n",
       "      <th>year_of_capacity_data</th>\n",
       "      <th>generation_gwh_2013</th>\n",
       "      <th>generation_gwh_2014</th>\n",
       "      <th>generation_gwh_2015</th>\n",
       "      <th>generation_gwh_2016</th>\n",
       "      <th>generation_gwh_2017</th>\n",
       "      <th>estimated_generation_gwh</th>\n",
       "    </tr>\n",
       "  </thead>\n",
       "  <tbody>\n",
       "    <tr>\n",
       "      <th>count</th>\n",
       "      <td>908.000000</td>\n",
       "      <td>862.000000</td>\n",
       "      <td>862.000000</td>\n",
       "      <td>908.000000</td>\n",
       "      <td>0.0</td>\n",
       "      <td>528.000000</td>\n",
       "      <td>0.0</td>\n",
       "      <td>520.0</td>\n",
       "      <td>384.000000</td>\n",
       "      <td>401.000000</td>\n",
       "      <td>425.000000</td>\n",
       "      <td>437.000000</td>\n",
       "      <td>443.000000</td>\n",
       "      <td>0.0</td>\n",
       "    </tr>\n",
       "    <tr>\n",
       "      <th>mean</th>\n",
       "      <td>321.046378</td>\n",
       "      <td>21.196189</td>\n",
       "      <td>77.447848</td>\n",
       "      <td>3.205947</td>\n",
       "      <td>NaN</td>\n",
       "      <td>1996.876894</td>\n",
       "      <td>NaN</td>\n",
       "      <td>2018.0</td>\n",
       "      <td>2304.059202</td>\n",
       "      <td>2420.393316</td>\n",
       "      <td>2414.072373</td>\n",
       "      <td>2453.936292</td>\n",
       "      <td>2531.754458</td>\n",
       "      <td>NaN</td>\n",
       "    </tr>\n",
       "    <tr>\n",
       "      <th>std</th>\n",
       "      <td>580.221767</td>\n",
       "      <td>6.248627</td>\n",
       "      <td>4.907260</td>\n",
       "      <td>2.281339</td>\n",
       "      <td>NaN</td>\n",
       "      <td>17.047817</td>\n",
       "      <td>NaN</td>\n",
       "      <td>0.0</td>\n",
       "      <td>3794.767492</td>\n",
       "      <td>4013.558173</td>\n",
       "      <td>4183.203199</td>\n",
       "      <td>4152.038216</td>\n",
       "      <td>4187.236364</td>\n",
       "      <td>NaN</td>\n",
       "    </tr>\n",
       "    <tr>\n",
       "      <th>min</th>\n",
       "      <td>0.000000</td>\n",
       "      <td>8.168900</td>\n",
       "      <td>68.644700</td>\n",
       "      <td>0.000000</td>\n",
       "      <td>NaN</td>\n",
       "      <td>1927.000000</td>\n",
       "      <td>NaN</td>\n",
       "      <td>2018.0</td>\n",
       "      <td>0.000000</td>\n",
       "      <td>0.000000</td>\n",
       "      <td>0.000000</td>\n",
       "      <td>0.000000</td>\n",
       "      <td>0.000000</td>\n",
       "      <td>NaN</td>\n",
       "    </tr>\n",
       "    <tr>\n",
       "      <th>25%</th>\n",
       "      <td>16.837500</td>\n",
       "      <td>16.771575</td>\n",
       "      <td>74.258975</td>\n",
       "      <td>1.000000</td>\n",
       "      <td>NaN</td>\n",
       "      <td>1988.000000</td>\n",
       "      <td>NaN</td>\n",
       "      <td>2018.0</td>\n",
       "      <td>244.458088</td>\n",
       "      <td>223.650436</td>\n",
       "      <td>174.174750</td>\n",
       "      <td>187.193669</td>\n",
       "      <td>177.643170</td>\n",
       "      <td>NaN</td>\n",
       "    </tr>\n",
       "    <tr>\n",
       "      <th>50%</th>\n",
       "      <td>60.000000</td>\n",
       "      <td>21.778300</td>\n",
       "      <td>76.719250</td>\n",
       "      <td>3.000000</td>\n",
       "      <td>NaN</td>\n",
       "      <td>2000.000000</td>\n",
       "      <td>NaN</td>\n",
       "      <td>2018.0</td>\n",
       "      <td>797.063475</td>\n",
       "      <td>805.760000</td>\n",
       "      <td>701.027250</td>\n",
       "      <td>716.728350</td>\n",
       "      <td>807.601700</td>\n",
       "      <td>NaN</td>\n",
       "    </tr>\n",
       "    <tr>\n",
       "      <th>75%</th>\n",
       "      <td>388.125000</td>\n",
       "      <td>25.516375</td>\n",
       "      <td>79.441475</td>\n",
       "      <td>6.000000</td>\n",
       "      <td>NaN</td>\n",
       "      <td>2011.250000</td>\n",
       "      <td>NaN</td>\n",
       "      <td>2018.0</td>\n",
       "      <td>2795.021500</td>\n",
       "      <td>3034.575000</td>\n",
       "      <td>3080.000000</td>\n",
       "      <td>3263.483000</td>\n",
       "      <td>3258.785000</td>\n",
       "      <td>NaN</td>\n",
       "    </tr>\n",
       "    <tr>\n",
       "      <th>max</th>\n",
       "      <td>4760.000000</td>\n",
       "      <td>34.649000</td>\n",
       "      <td>95.408000</td>\n",
       "      <td>7.000000</td>\n",
       "      <td>NaN</td>\n",
       "      <td>2018.000000</td>\n",
       "      <td>NaN</td>\n",
       "      <td>2018.0</td>\n",
       "      <td>27586.200000</td>\n",
       "      <td>28127.000000</td>\n",
       "      <td>30539.000000</td>\n",
       "      <td>30015.000000</td>\n",
       "      <td>35116.000000</td>\n",
       "      <td>NaN</td>\n",
       "    </tr>\n",
       "  </tbody>\n",
       "</table>\n",
       "</div>"
      ],
      "text/plain": [
       "       capacity_mw    latitude   longitude  primary_fuel  other_fuel3  \\\n",
       "count   908.000000  862.000000  862.000000    908.000000          0.0   \n",
       "mean    321.046378   21.196189   77.447848      3.205947          NaN   \n",
       "std     580.221767    6.248627    4.907260      2.281339          NaN   \n",
       "min       0.000000    8.168900   68.644700      0.000000          NaN   \n",
       "25%      16.837500   16.771575   74.258975      1.000000          NaN   \n",
       "50%      60.000000   21.778300   76.719250      3.000000          NaN   \n",
       "75%     388.125000   25.516375   79.441475      6.000000          NaN   \n",
       "max    4760.000000   34.649000   95.408000      7.000000          NaN   \n",
       "\n",
       "       commissioning_year  wepp_id  year_of_capacity_data  \\\n",
       "count          528.000000      0.0                  520.0   \n",
       "mean          1996.876894      NaN                 2018.0   \n",
       "std             17.047817      NaN                    0.0   \n",
       "min           1927.000000      NaN                 2018.0   \n",
       "25%           1988.000000      NaN                 2018.0   \n",
       "50%           2000.000000      NaN                 2018.0   \n",
       "75%           2011.250000      NaN                 2018.0   \n",
       "max           2018.000000      NaN                 2018.0   \n",
       "\n",
       "       generation_gwh_2013  generation_gwh_2014  generation_gwh_2015  \\\n",
       "count           384.000000           401.000000           425.000000   \n",
       "mean           2304.059202          2420.393316          2414.072373   \n",
       "std            3794.767492          4013.558173          4183.203199   \n",
       "min               0.000000             0.000000             0.000000   \n",
       "25%             244.458088           223.650436           174.174750   \n",
       "50%             797.063475           805.760000           701.027250   \n",
       "75%            2795.021500          3034.575000          3080.000000   \n",
       "max           27586.200000         28127.000000         30539.000000   \n",
       "\n",
       "       generation_gwh_2016  generation_gwh_2017  estimated_generation_gwh  \n",
       "count           437.000000           443.000000                       0.0  \n",
       "mean           2453.936292          2531.754458                       NaN  \n",
       "std            4152.038216          4187.236364                       NaN  \n",
       "min               0.000000             0.000000                       NaN  \n",
       "25%             187.193669           177.643170                       NaN  \n",
       "50%             716.728350           807.601700                       NaN  \n",
       "75%            3263.483000          3258.785000                       NaN  \n",
       "max           30015.000000         35116.000000                       NaN  "
      ]
     },
     "execution_count": 12,
     "metadata": {},
     "output_type": "execute_result"
    }
   ],
   "source": [
    "df.describe()"
   ]
  },
  {
   "cell_type": "raw",
   "id": "7f879d6e",
   "metadata": {},
   "source": [
    "Key Observations:\n",
    "\n",
    "- There is almost zero entry in 3 columns need to drop that column .-other_fuel3,wepp_id, estimated_generation_gwh\n",
    "- The capacity_mw column has a range of 0.0 to 4760.\n",
    "- There are outliers expected in  column as capacity_mw the values till 75% are 388.\n",
    "   Same is the case with generation_gwh as well.\n",
    "- mean is more than 50% so extreme skewed data in capacity_mw\n"
   ]
  },
  {
   "cell_type": "code",
   "execution_count": 13,
   "id": "ae93ca90",
   "metadata": {},
   "outputs": [],
   "source": [
    "df.drop(columns=['other_fuel3'],inplace=True)\n",
    "df.drop(columns=['estimated_generation_gwh'],inplace=True)\n",
    "df.drop(columns=['wepp_id'],inplace=True)"
   ]
  },
  {
   "cell_type": "code",
   "execution_count": 14,
   "id": "cb96f4ac",
   "metadata": {},
   "outputs": [
    {
     "data": {
      "text/plain": [
       "Central Electricity Authority    450\n",
       "Name: generation_data_source, dtype: int64"
      ]
     },
     "execution_count": 14,
     "metadata": {},
     "output_type": "execute_result"
    }
   ],
   "source": [
    "df.generation_data_source.value_counts() # only single data are there."
   ]
  },
  {
   "cell_type": "code",
   "execution_count": 15,
   "id": "e5681713",
   "metadata": {
    "scrolled": true
   },
   "outputs": [
    {
     "data": {
      "text/plain": [
       "<AxesSubplot:xlabel='longitude', ylabel='Density'>"
      ]
     },
     "execution_count": 15,
     "metadata": {},
     "output_type": "execute_result"
    },
    {
     "data": {
      "image/png": "[encoded data removed]",
      "text/plain": [
       "<Figure size 432x288 with 1 Axes>"
      ]
     },
     "metadata": {
      "needs_background": "light"
     },
     "output_type": "display_data"
    }
   ],
   "source": [
    "sns.distplot(df.longitude)"
   ]
  },
  {
   "cell_type": "code",
   "execution_count": 16,
   "id": "566eee41",
   "metadata": {},
   "outputs": [
    {
     "data": {
      "text/plain": [
       "2018.0    520\n",
       "Name: year_of_capacity_data, dtype: int64"
      ]
     },
     "execution_count": 16,
     "metadata": {},
     "output_type": "execute_result"
    }
   ],
   "source": [
    "df.year_of_capacity_data.value_counts() #This columns not provide direct relation with target column so we drop ."
   ]
  },
  {
   "cell_type": "code",
   "execution_count": 17,
   "id": "ac865ebf",
   "metadata": {},
   "outputs": [],
   "source": [
    "df.drop(columns='year_of_capacity_data',inplace=True)"
   ]
  },
  {
   "cell_type": "code",
   "execution_count": 18,
   "id": "da29eb8d",
   "metadata": {
    "scrolled": true
   },
   "outputs": [
    {
     "data": {
      "text/plain": [
       "country                    object\n",
       "country_long               object\n",
       "name                       object\n",
       "gppd_idnr                  object\n",
       "capacity_mw               float64\n",
       "latitude                  float64\n",
       "longitude                 float64\n",
       "primary_fuel                int32\n",
       "other_fuel1                object\n",
       "other_fuel2                object\n",
       "commissioning_year        float64\n",
       "owner                      object\n",
       "source                     object\n",
       "url                        object\n",
       "geolocation_source         object\n",
       "generation_gwh_2013       float64\n",
       "generation_gwh_2014       float64\n",
       "generation_gwh_2015       float64\n",
       "generation_gwh_2016       float64\n",
       "generation_gwh_2017       float64\n",
       "generation_data_source     object\n",
       "dtype: object"
      ]
     },
     "execution_count": 18,
     "metadata": {},
     "output_type": "execute_result"
    }
   ],
   "source": [
    "df.dtypes # object data convert ito missing_"
   ]
  },
  {
   "cell_type": "code",
   "execution_count": 19,
   "id": "7e999bae",
   "metadata": {},
   "outputs": [
    {
     "data": {
      "text/plain": [
       "India    908\n",
       "Name: country_long, dtype: int64"
      ]
     },
     "execution_count": 19,
     "metadata": {},
     "output_type": "execute_result"
    }
   ],
   "source": [
    "df.country_long.value_counts() # we Drop this column becasuse only one entry is there which is not importat for target column."
   ]
  },
  {
   "cell_type": "code",
   "execution_count": 20,
   "id": "519452f3",
   "metadata": {},
   "outputs": [
    {
     "data": {
      "text/plain": [
       "<AxesSubplot:xlabel='country_long', ylabel='Count'>"
      ]
     },
     "execution_count": 20,
     "metadata": {},
     "output_type": "execute_result"
    },
    {
     "data": {
      "image/png": "[encoded data removed]",
      "text/plain": [
       "<Figure size 432x288 with 1 Axes>"
      ]
     },
     "metadata": {
      "needs_background": "light"
     },
     "output_type": "display_data"
    }
   ],
   "source": [
    "sns.histplot(df.country_long)"
   ]
  },
  {
   "cell_type": "code",
   "execution_count": 21,
   "id": "384514e0",
   "metadata": {},
   "outputs": [],
   "source": [
    "df.drop(columns='country_long',inplace=True) # only one entry is there so drop both columns.\n",
    "df.drop(columns='country',inplace=True)"
   ]
  },
  {
   "cell_type": "code",
   "execution_count": 22,
   "id": "566f7398",
   "metadata": {},
   "outputs": [
    {
     "data": {
      "text/plain": [
       "Oil             196\n",
       "Gas               2\n",
       "Cogeneration      1\n",
       "Name: other_fuel1, dtype: int64"
      ]
     },
     "execution_count": 22,
     "metadata": {},
     "output_type": "execute_result"
    }
   ],
   "source": [
    "df.other_fuel1.value_counts() # half od data is missing"
   ]
  },
  {
   "cell_type": "code",
   "execution_count": 23,
   "id": "a60b4577",
   "metadata": {},
   "outputs": [
    {
     "data": {
      "text/plain": [
       "Oil    1\n",
       "Name: other_fuel2, dtype: int64"
      ]
     },
     "execution_count": 23,
     "metadata": {},
     "output_type": "execute_result"
    }
   ],
   "source": [
    "df.other_fuel2.value_counts() #Only one entry is there so drop this columns"
   ]
  },
  {
   "cell_type": "code",
   "execution_count": 24,
   "id": "bcc597df",
   "metadata": {},
   "outputs": [],
   "source": [
    "df.drop(columns='other_fuel2',inplace=True) #only oil entry is there so we drop this columns."
   ]
  },
  {
   "cell_type": "code",
   "execution_count": 25,
   "id": "6f82447d",
   "metadata": {
    "scrolled": false
   },
   "outputs": [
    {
     "data": {
      "text/plain": [
       "capacity_mw               AxesSubplot(0.125,0.816017;0.168478x0.0639831)\n",
       "latitude               AxesSubplot(0.327174,0.816017;0.168478x0.0639831)\n",
       "longitude              AxesSubplot(0.529348,0.816017;0.168478x0.0639831)\n",
       "primary_fuel           AxesSubplot(0.731522,0.816017;0.168478x0.0639831)\n",
       "commissioning_year        AxesSubplot(0.125,0.739237;0.168478x0.0639831)\n",
       "generation_gwh_2013    AxesSubplot(0.327174,0.739237;0.168478x0.0639831)\n",
       "generation_gwh_2014    AxesSubplot(0.529348,0.739237;0.168478x0.0639831)\n",
       "generation_gwh_2015    AxesSubplot(0.731522,0.739237;0.168478x0.0639831)\n",
       "generation_gwh_2016       AxesSubplot(0.125,0.662458;0.168478x0.0639831)\n",
       "generation_gwh_2017    AxesSubplot(0.327174,0.662458;0.168478x0.0639831)\n",
       "dtype: object"
      ]
     },
     "execution_count": 25,
     "metadata": {},
     "output_type": "execute_result"
    },
    {
     "data": {
      "image/png": "[encoded data removed]",
      "text/plain": [
       "<Figure size 864x2160 with 40 Axes>"
      ]
     },
     "metadata": {
      "needs_background": "light"
     },
     "output_type": "display_data"
    }
   ],
   "source": [
    "df.plot(kind='box',subplots=True,layout=(10,4),figsize=(12,30)) #checking Outlier ,some of columns having high  outlier."
   ]
  },
  {
   "cell_type": "code",
   "execution_count": 26,
   "id": "e09446ad",
   "metadata": {
    "scrolled": false
   },
   "outputs": [],
   "source": [
    "#Removing OUtlier\n",
    "from scipy.stats import zscore \n",
    "z=np.abs(zscore(df['capacity_mw']))\n",
    "z=np.abs(zscore(df['longitude']))\n",
    "z=np.abs(zscore(df['commissioning_year']))\n",
    "#z=np.abs(zscore(df['capacity_mw']))\n",
    "# generation_gwh_2013,2014,2015,2016,2017 having missing values so filling with mean .\n",
    "#so there is possibility to outlier detection."
   ]
  },
  {
   "cell_type": "code",
   "execution_count": 27,
   "id": "5121d642",
   "metadata": {},
   "outputs": [
    {
     "data": {
      "text/plain": [
       "array([[<AxesSubplot:ylabel='Density'>, <AxesSubplot:ylabel='Density'>,\n",
       "        <AxesSubplot:ylabel='Density'>, <AxesSubplot:ylabel='Density'>],\n",
       "       [<AxesSubplot:ylabel='Density'>, <AxesSubplot:ylabel='Density'>,\n",
       "        <AxesSubplot:ylabel='Density'>, <AxesSubplot:ylabel='Density'>],\n",
       "       [<AxesSubplot:ylabel='Density'>, <AxesSubplot:ylabel='Density'>,\n",
       "        <AxesSubplot:ylabel='Density'>, <AxesSubplot:ylabel='Density'>],\n",
       "       [<AxesSubplot:ylabel='Density'>, <AxesSubplot:ylabel='Density'>,\n",
       "        <AxesSubplot:ylabel='Density'>, <AxesSubplot:ylabel='Density'>]],\n",
       "      dtype=object)"
      ]
     },
     "execution_count": 27,
     "metadata": {},
     "output_type": "execute_result"
    },
    {
     "data": {
      "image/png": "[encoded data removed]",
      "text/plain": [
       "<Figure size 1080x432 with 16 Axes>"
      ]
     },
     "metadata": {
      "needs_background": "light"
     },
     "output_type": "display_data"
    }
   ],
   "source": [
    "#to check Distribution of skewness, almost there is no skewd data expect fnlwgt column.\n",
    "df.plot(kind='kde',subplots=True,layout=(4,4),figsize=(15,6)) "
   ]
  },
  {
   "cell_type": "raw",
   "id": "7e037686",
   "metadata": {},
   "source": [
    "#generation_gwh_2013,2014,2015,2016,2017 having missing values so filling with mean .\n",
    "#so there is possibility to outlier detection. so keeping skewd data to futher stpe up."
   ]
  },
  {
   "cell_type": "code",
   "execution_count": 28,
   "id": "aed89d50",
   "metadata": {},
   "outputs": [
    {
     "data": {
      "text/plain": [
       "<AxesSubplot:>"
      ]
     },
     "execution_count": 28,
     "metadata": {},
     "output_type": "execute_result"
    },
    {
     "data": {
      "image/png": "[encoded data removed]",
      "text/plain": [
       "<Figure size 576x504 with 2 Axes>"
      ]
     },
     "metadata": {
      "needs_background": "light"
     },
     "output_type": "display_data"
    }
   ],
   "source": [
    "corr=df.corr()\n",
    "plt.figure(figsize=(8,7))        \n",
    "sns.heatmap(corr,annot=True,cmap='coolwarm')\n",
    "# multicolinearity is there so data is imbalance so keeping data aloone we step up towards nest step."
   ]
  },
  {
   "cell_type": "code",
   "execution_count": 29,
   "id": "c23778e8",
   "metadata": {},
   "outputs": [
    {
     "data": {
      "text/plain": [
       "capacity_mw            3.193257\n",
       "latitude              -0.143622\n",
       "longitude              1.100942\n",
       "primary_fuel           0.471141\n",
       "commissioning_year    -1.056132\n",
       "generation_gwh_2013    3.416338\n",
       "generation_gwh_2014    3.357683\n",
       "generation_gwh_2015    3.679016\n",
       "generation_gwh_2016    3.524785\n",
       "generation_gwh_2017    3.576849\n",
       "dtype: float64"
      ]
     },
     "execution_count": 29,
     "metadata": {},
     "output_type": "execute_result"
    }
   ],
   "source": [
    "df.skew()"
   ]
  },
  {
   "cell_type": "code",
   "execution_count": 30,
   "id": "dbc6cfe5",
   "metadata": {},
   "outputs": [
    {
     "data": {
      "text/plain": [
       "1.4745428885407292"
      ]
     },
     "execution_count": 30,
     "metadata": {},
     "output_type": "execute_result"
    }
   ],
   "source": [
    "gain_df=np.sqrt(df['capacity_mw']) # square Trasform\n",
    "gain_df.skew()"
   ]
  },
  {
   "cell_type": "raw",
   "id": "13932b96",
   "metadata": {},
   "source": [
    "from scipy.stats import boxcox #Removing Fnlwgt column skewd data \n",
    "df['generation_gwh_2016']=boxcox(df['generation_gwh_2016'],0)"
   ]
  },
  {
   "cell_type": "markdown",
   "id": "ae55a417",
   "metadata": {},
   "source": [
    "### Encoding the data\n",
    "Since majority of the classification models need input as ‘int/float’, and do not work on ‘string’ data, \n",
    "we encode our categorical columns using ‘Label Encoder’"
   ]
  },
  {
   "cell_type": "code",
   "execution_count": 31,
   "id": "89a1502b",
   "metadata": {},
   "outputs": [],
   "source": [
    "from sklearn.preprocessing import LabelEncoder # having string data need to convert into numric for further calculations.\n",
    "lb=LabelEncoder()\n",
    "#df['country']=lb.fit_transform(df['country'])\n",
    "df['name']=lb.fit_transform(df['name'])\n",
    "df['gppd_idnr']=lb.fit_transform(df['gppd_idnr'])\n",
    "df['other_fuel1']=lb.fit_transform(df['other_fuel1'])\n",
    "df['owner']=lb.fit_transform(df['owner'])\n",
    "df['source']=lb.fit_transform(df['source'])\n",
    "df['url']=lb.fit_transform(df['url'])\n",
    "df['generation_data_source']=lb.fit_transform(df['generation_data_source'])\n",
    "df['geolocation_source']=lb.fit_transform(df['geolocation_source'])\n",
    "#df['']=lb.fit_transform(df[''])"
   ]
  },
  {
   "cell_type": "code",
   "execution_count": 32,
   "id": "0164acbe",
   "metadata": {},
   "outputs": [],
   "source": [
    "# Filling missing values with mean.\n",
    "df['commissioning_year']=df['commissioning_year'].replace(np.NaN,df['commissioning_year'].mean())\n",
    "#df['year_of_capacity_data']=df['year_of_capacity_data'].replace(np.NaN,df['year_of_capacity_data'].mean())\n",
    "df['generation_gwh_2013']=df['generation_gwh_2013'].replace(np.NaN,df['generation_gwh_2013'].mean())\n",
    "df['generation_gwh_2014']=df['generation_gwh_2014'].replace(np.NaN,df['generation_gwh_2014'].mean())\n",
    "df['generation_gwh_2015']=df['generation_gwh_2015'].replace(np.NaN,df['generation_gwh_2015'].mean())\n",
    "df['generation_gwh_2016']=df['generation_gwh_2016'].replace(np.NaN,df['generation_gwh_2016'].mean())\n",
    "df['generation_gwh_2017']=df['generation_gwh_2017'].replace(np.NaN,df['generation_gwh_2017'].mean())\n",
    "df['latitude']=df['latitude'].replace(np.NaN,df['latitude'].mean())\n",
    "df['longitude']=df['longitude'].replace(np.NaN,df['longitude'].mean())"
   ]
  },
  {
   "cell_type": "markdown",
   "id": "05f8314b",
   "metadata": {},
   "source": [
    "### Data Visualizations"
   ]
  },
  {
   "cell_type": "code",
   "execution_count": 33,
   "id": "a7af328b",
   "metadata": {},
   "outputs": [
    {
     "data": {
      "image/png": "[encoded data removed]",
      "text/plain": [
       "<Figure size 1440x1800 with 13 Axes>"
      ]
     },
     "metadata": {},
     "output_type": "display_data"
    }
   ],
   "source": [
    "#lets see how data is distributed for every column\n",
    "plt.figure(figsize=(20,25),facecolor='white')\n",
    "plotnumber=1\n",
    "\n",
    "for column in df:\n",
    "                                    \n",
    "    if plotnumber<=13:\n",
    "        ax=plt.subplot(4,4,plotnumber)\n",
    "        sns.distplot(df[column])\n",
    "        plt.xlabel(column,fontsize=18)\n",
    "    plotnumber+=1\n",
    "plt.show()"
   ]
  },
  {
   "cell_type": "code",
   "execution_count": 34,
   "id": "6dc25b78",
   "metadata": {},
   "outputs": [
    {
     "data": {
      "text/plain": [
       "array([[<AxesSubplot:title={'center':'name'}>,\n",
       "        <AxesSubplot:title={'center':'gppd_idnr'}>,\n",
       "        <AxesSubplot:title={'center':'capacity_mw'}>,\n",
       "        <AxesSubplot:title={'center':'latitude'}>],\n",
       "       [<AxesSubplot:title={'center':'longitude'}>,\n",
       "        <AxesSubplot:title={'center':'primary_fuel'}>,\n",
       "        <AxesSubplot:title={'center':'other_fuel1'}>,\n",
       "        <AxesSubplot:title={'center':'commissioning_year'}>],\n",
       "       [<AxesSubplot:title={'center':'owner'}>,\n",
       "        <AxesSubplot:title={'center':'source'}>,\n",
       "        <AxesSubplot:title={'center':'url'}>,\n",
       "        <AxesSubplot:title={'center':'geolocation_source'}>],\n",
       "       [<AxesSubplot:title={'center':'generation_gwh_2013'}>,\n",
       "        <AxesSubplot:title={'center':'generation_gwh_2014'}>,\n",
       "        <AxesSubplot:title={'center':'generation_gwh_2015'}>,\n",
       "        <AxesSubplot:title={'center':'generation_gwh_2016'}>],\n",
       "       [<AxesSubplot:title={'center':'generation_gwh_2017'}>,\n",
       "        <AxesSubplot:title={'center':'generation_data_source'}>,\n",
       "        <AxesSubplot:>, <AxesSubplot:>]], dtype=object)"
      ]
     },
     "execution_count": 34,
     "metadata": {},
     "output_type": "execute_result"
    },
    {
     "data": {
      "image/png": "[encoded data removed]",
      "text/plain": [
       "<Figure size 1800x1296 with 20 Axes>"
      ]
     },
     "metadata": {
      "needs_background": "light"
     },
     "output_type": "display_data"
    }
   ],
   "source": [
    "df.hist(figsize=(25,18))"
   ]
  },
  {
   "cell_type": "raw",
   "id": "592e77bd",
   "metadata": {},
   "source": [
    "from sklearn.decomposition import PCA\n",
    "pca=PCA(n_components=15)"
   ]
  },
  {
   "cell_type": "raw",
   "id": "e71c49a4",
   "metadata": {},
   "source": [
    "df['capacity_mw']=df['capacity_mw'].apply(lambda x: 0 if x <=2380 else 1)"
   ]
  },
  {
   "cell_type": "raw",
   "id": "e074c1ad",
   "metadata": {},
   "source": [
    "df['capacity_mw'].value_counts()"
   ]
  },
  {
   "cell_type": "markdown",
   "id": "85858e19",
   "metadata": {},
   "source": [
    "### Train Test Split\n",
    "     separating the columns into features and target:"
   ]
  },
  {
   "cell_type": "markdown",
   "id": "efc291da",
   "metadata": {},
   "source": [
    "### first we take primary fuel as target column and by using classification model we get prediction"
   ]
  },
  {
   "cell_type": "code",
   "execution_count": 35,
   "id": "df2b5f7d",
   "metadata": {},
   "outputs": [],
   "source": [
    "# Dividing the dataset into independent and dependent data before scaling\n",
    "x=df.drop(columns='primary_fuel')\n",
    "y=df['primary_fuel']"
   ]
  },
  {
   "cell_type": "raw",
   "id": "1f40b765",
   "metadata": {},
   "source": [
    "x=pca.fit_transform(X)"
   ]
  },
  {
   "cell_type": "code",
   "execution_count": 36,
   "id": "05c09019",
   "metadata": {},
   "outputs": [],
   "source": [
    "# Importing necessary models\n",
    "from sklearn.linear_model import LogisticRegression\n",
    "from sklearn.metrics import accuracy_score\n",
    "from sklearn.metrics import confusion_matrix,classification_report\n",
    "from sklearn.model_selection import train_test_split "
   ]
  },
  {
   "cell_type": "markdown",
   "id": "ce465003",
   "metadata": {},
   "source": [
    "### Fitting data into classification models-\n",
    "We now proceed to the main step of our machine learning, fitting the model and predicting the outputs.\n",
    "We fit the data into multiple classification models to compare the performance of all models and select the best model"
   ]
  },
  {
   "cell_type": "code",
   "execution_count": 37,
   "id": "713ff620",
   "metadata": {},
   "outputs": [],
   "source": [
    "from sklearn.naive_bayes import MultinomialNB\n",
    "from sklearn.tree import DecisionTreeClassifier\n",
    "from sklearn.neighbors import KNeighborsClassifier\n",
    "from sklearn.metrics import accuracy_score,confusion_matrix,classification_report\n",
    "from sklearn.metrics import roc_curve,roc_auc_score\n",
    "from sklearn.model_selection import GridSearchCV\n",
    "from sklearn.svm import SVC\n",
    "from sklearn.model_selection import cross_val_score\n",
    "from sklearn.ensemble import RandomForestClassifier"
   ]
  },
  {
   "cell_type": "markdown",
   "id": "3ea0785f",
   "metadata": {},
   "source": [
    "### Find the  beast Random_state use here (currently we are moving shead with Random_state 42)"
   ]
  },
  {
   "cell_type": "code",
   "execution_count": 38,
   "id": "85bd1d30",
   "metadata": {},
   "outputs": [],
   "source": [
    "# Dividing the dataset into independent and dependent data before scaling\n",
    "x=df.drop(columns='primary_fuel')\n",
    "y=df['primary_fuel']\n",
    "x_train,x_test,y_train,y_test=train_test_split(x,y,test_size=.22,random_state=140)"
   ]
  },
  {
   "cell_type": "code",
   "execution_count": 39,
   "id": "0c596c5d",
   "metadata": {},
   "outputs": [
    {
     "name": "stdout",
     "output_type": "stream",
     "text": [
      "(908, 17) (708, 17) (200, 17)\n",
      "(908,) (708,) (200,)\n"
     ]
    }
   ],
   "source": [
    "print(x.shape,x_train.shape,x_test.shape)\n",
    "print(y.shape,y_train.shape,y_test.shape)"
   ]
  },
  {
   "cell_type": "markdown",
   "id": "a97cae9b",
   "metadata": {},
   "source": [
    "###  MultinomialNB GridSearchCV ,Cross Validation ,Model Develop "
   ]
  },
  {
   "cell_type": "code",
   "execution_count": 40,
   "id": "d6743e3d",
   "metadata": {},
   "outputs": [
    {
     "name": "stdout",
     "output_type": "stream",
     "text": [
      "{'alpha': 1.0, 'fit_prior': 'bool'}\n",
      "0.4533513135550894\n"
     ]
    }
   ],
   "source": [
    "parameters={'alpha':[1.0],'fit_prior':['bool']}\n",
    "mnb=MultinomialNB()\n",
    "clf=GridSearchCV(mnb,parameters)\n",
    "clf.fit(x_train,y_train)\n",
    "print(clf.best_params_)\n",
    "best_result=clf.best_score_\n",
    "print(best_result)"
   ]
  },
  {
   "cell_type": "code",
   "execution_count": 41,
   "id": "66713749",
   "metadata": {},
   "outputs": [
    {
     "name": "stdout",
     "output_type": "stream",
     "text": [
      "0.49\n",
      "[[12  0  0  0  0  0  1  0]\n",
      " [14 17  5  6  6  2  2  0]\n",
      " [ 1  1 10  3  1  0  0  0]\n",
      " [15  0 32  5  3  0  0  0]\n",
      " [ 0  2  0  0  0  0  0  0]\n",
      " [ 1  0  3  0  0  1  0  1]\n",
      " [ 0  1  0  0  0  0 35  1]\n",
      " [ 0  0  0  0  0  0  1 18]]\n",
      "              precision    recall  f1-score   support\n",
      "\n",
      "           0       0.28      0.92      0.43        13\n",
      "           1       0.81      0.33      0.47        52\n",
      "           2       0.20      0.62      0.30        16\n",
      "           3       0.36      0.09      0.14        55\n",
      "           4       0.00      0.00      0.00         2\n",
      "           5       0.33      0.17      0.22         6\n",
      "           6       0.90      0.95      0.92        37\n",
      "           7       0.90      0.95      0.92        19\n",
      "\n",
      "    accuracy                           0.49       200\n",
      "   macro avg       0.47      0.50      0.43       200\n",
      "weighted avg       0.60      0.49      0.48       200\n",
      "\n"
     ]
    }
   ],
   "source": [
    "mnb=MultinomialNB(alpha=1.0,fit_prior='bool')\n",
    "mnb.fit(x_train,y_train)\n",
    "predmnb=mnb.predict(x_test)\n",
    "print(accuracy_score(y_test,predmnb))\n",
    "print(confusion_matrix(y_test,predmnb))\n",
    "print(classification_report(y_test,predmnb))"
   ]
  },
  {
   "cell_type": "code",
   "execution_count": 42,
   "id": "b65b5a47",
   "metadata": {},
   "outputs": [
    {
     "name": "stdout",
     "output_type": "stream",
     "text": [
      "[0.43406593 0.42857143 0.40659341 0.43093923 0.46961326]\n",
      "0.4339566510837229\n",
      "0.020289200576091217\n"
     ]
    }
   ],
   "source": [
    "# KFold Cross Validation\n",
    "score=cross_val_score(mnb,x,y,cv=5)\n",
    "print(score)\n",
    "print(score.mean())\n",
    "print(score.std())"
   ]
  },
  {
   "cell_type": "code",
   "execution_count": 43,
   "id": "b6aedf0e",
   "metadata": {},
   "outputs": [
    {
     "name": "stdout",
     "output_type": "stream",
     "text": [
      "At random state 140 The model perform very well\n",
      "At random_state:- 140\n",
      "Accuracy_Score_train :- 47.79614325068871\n",
      "Accuracy_Score_test :- 47.8021978021978\n",
      "At random state 199 The model perform very well\n",
      "At random_state:- 199\n",
      "Accuracy_Score_train :- 47.79614325068871\n",
      "Accuracy_Score_test :- 47.8021978021978\n",
      "At random state 292 The model perform very well\n",
      "At random_state:- 292\n",
      "Accuracy_Score_train :- 44.490358126721766\n",
      "Accuracy_Score_test :- 44.505494505494504\n"
     ]
    }
   ],
   "source": [
    "for i in range(0,500):\n",
    "    x_train,x_test,y_train,y_test=train_test_split(x,y,random_state=i,test_size=0.20)\n",
    "    mnb.fit(x_train,y_train)\n",
    "    pred_train=mnb.predict(x_train)\n",
    "    pred_test=mnb.predict(x_test)\n",
    "    if round(accuracy_score(y_train,pred_train)*100,1)==round(accuracy_score(y_test,pred_test)*100,1):\n",
    "        print(\"At random state\",i,\"The model perform very well\")\n",
    "        print(\"At random_state:-\",i)\n",
    "        print(\"Accuracy_Score_train :-\",accuracy_score(y_train,pred_train)*100)\n",
    "        print(\"Accuracy_Score_test :-\",accuracy_score(y_test,pred_test)*100)"
   ]
  },
  {
   "cell_type": "markdown",
   "id": "f99943d5",
   "metadata": {},
   "source": [
    "### Standard Scaler\n",
    "The next step is to bring the data to a common scale, since there are certain columns with very small values and some columns\n",
    "with high values. This process is important as values on a similar scale allow the model to learn better.\n",
    "We use standard scaler for this process"
   ]
  },
  {
   "cell_type": "code",
   "execution_count": 44,
   "id": "bfe8550d",
   "metadata": {},
   "outputs": [],
   "source": [
    "from sklearn.preprocessing import StandardScaler\n",
    "scale=StandardScaler()\n",
    "x=scale.fit_transform(x)\n",
    "x=pd.DataFrame(x)\n",
    "x_train,x_test,y_train,y_test=train_test_split(x,y,test_size=.22,random_state=140)"
   ]
  },
  {
   "cell_type": "markdown",
   "id": "76c465cb",
   "metadata": {},
   "source": [
    "### Find the  beast Random_state use here ( Random_state 13)"
   ]
  },
  {
   "cell_type": "markdown",
   "id": "36d76339",
   "metadata": {},
   "source": [
    "###  DecisionTreeClassifier :Hyperparameter Tuning:GRidSearch CV,Model Development,Cross validation"
   ]
  },
  {
   "cell_type": "code",
   "execution_count": 45,
   "id": "2eac4611",
   "metadata": {},
   "outputs": [
    {
     "name": "stdout",
     "output_type": "stream",
     "text": [
      "{'criterion': 'gini'}\n",
      "0.8612895391900917\n",
      "0.86\n"
     ]
    }
   ],
   "source": [
    "from sklearn.model_selection import GridSearchCV\n",
    "dtc=DecisionTreeClassifier()\n",
    "\n",
    "grid_param={'criterion':['gini','entropy']}\n",
    "gd_sr=GridSearchCV(estimator=dtc,param_grid=grid_param,scoring='accuracy',cv=5)\n",
    "gd_sr.fit(x,y)\n",
    "\n",
    "best_parameters=gd_sr.best_params_\n",
    "print(best_parameters)                      #DesicisionTreeClassifier having highest score with cross validation \n",
    "best_result=gd_sr.best_score_\n",
    "print(best_result)\n",
    "print(round(best_result,2))"
   ]
  },
  {
   "cell_type": "code",
   "execution_count": 46,
   "id": "46059d37",
   "metadata": {},
   "outputs": [
    {
     "name": "stdout",
     "output_type": "stream",
     "text": [
      "0.88\n",
      "[[10  2  1  0  0  0  0  0]\n",
      " [ 4 44  2  0  0  2  0  0]\n",
      " [ 0  1 10  4  0  1  0  0]\n",
      " [ 0  0  3 51  0  1  0  0]\n",
      " [ 0  0  0  0  2  0  0  0]\n",
      " [ 0  0  1  1  1  3  0  0]\n",
      " [ 0  0  0  0  0  0 37  0]\n",
      " [ 0  0  0  0  0  0  0 19]]\n",
      "              precision    recall  f1-score   support\n",
      "\n",
      "           0       0.71      0.77      0.74        13\n",
      "           1       0.94      0.85      0.89        52\n",
      "           2       0.59      0.62      0.61        16\n",
      "           3       0.91      0.93      0.92        55\n",
      "           4       0.67      1.00      0.80         2\n",
      "           5       0.43      0.50      0.46         6\n",
      "           6       1.00      1.00      1.00        37\n",
      "           7       1.00      1.00      1.00        19\n",
      "\n",
      "    accuracy                           0.88       200\n",
      "   macro avg       0.78      0.83      0.80       200\n",
      "weighted avg       0.89      0.88      0.88       200\n",
      "\n"
     ]
    }
   ],
   "source": [
    "dtc=DecisionTreeClassifier(criterion='gini')\n",
    "dtc.fit(x_train,y_train)\n",
    "dtc.score(x_train,y_train)\n",
    "preddtc=dtc.predict(x_test)\n",
    "print(accuracy_score(y_test,preddtc))\n",
    "print(confusion_matrix(y_test,preddtc))\n",
    "print(classification_report(y_test,preddtc))"
   ]
  },
  {
   "cell_type": "code",
   "execution_count": 47,
   "id": "4d70496c",
   "metadata": {},
   "outputs": [
    {
     "name": "stdout",
     "output_type": "stream",
     "text": [
      "[0.7967033  0.82967033 0.8956044  0.85635359 0.8839779 ]\n",
      "0.8524619027381458\n",
      "0.0360503980493352\n"
     ]
    }
   ],
   "source": [
    "from sklearn.model_selection import cross_val_score\n",
    "\n",
    "score=cross_val_score(dtc,x,y,cv=5)\n",
    "print(score)\n",
    "print(score.mean())\n",
    "print(score.std())"
   ]
  },
  {
   "cell_type": "markdown",
   "id": "417f785d",
   "metadata": {},
   "source": [
    "### Support vector Machine Model,Cross Validation ,Hyperparameter Tuning"
   ]
  },
  {
   "cell_type": "code",
   "execution_count": 48,
   "id": "261298fb",
   "metadata": {},
   "outputs": [
    {
     "name": "stdout",
     "output_type": "stream",
     "text": [
      "{'kernel': 'linear'}\n",
      "0.8714414144441115\n"
     ]
    }
   ],
   "source": [
    "from sklearn.svm import SVC\n",
    "\n",
    "parameters={'kernel':['linear','poly','rbf']}\n",
    "svc=SVC() #(kernel='rbf')\n",
    "\n",
    "clf=GridSearchCV(svc,parameters)\n",
    "clf.fit(x_train,y_train)\n",
    "print(clf.best_params_)\n",
    "best_result=clf.best_score_\n",
    "print(best_result)"
   ]
  },
  {
   "cell_type": "code",
   "execution_count": 49,
   "id": "69b4c8c1",
   "metadata": {},
   "outputs": [
    {
     "name": "stdout",
     "output_type": "stream",
     "text": [
      "0.82\n",
      "[[ 4  9  0  0  0  0  0  0]\n",
      " [ 3 49  0  0  0  0  0  0]\n",
      " [ 0  2  0 14  0  0  0  0]\n",
      " [ 0  0  0 55  0  0  0  0]\n",
      " [ 0  0  0  2  0  0  0  0]\n",
      " [ 0  2  0  3  0  1  0  0]\n",
      " [ 0  1  0  0  0  0 36  0]\n",
      " [ 0  0  0  0  0  0  0 19]]\n",
      "              precision    recall  f1-score   support\n",
      "\n",
      "           0       0.57      0.31      0.40        13\n",
      "           1       0.78      0.94      0.85        52\n",
      "           2       0.00      0.00      0.00        16\n",
      "           3       0.74      1.00      0.85        55\n",
      "           4       0.00      0.00      0.00         2\n",
      "           5       1.00      0.17      0.29         6\n",
      "           6       1.00      0.97      0.99        37\n",
      "           7       1.00      1.00      1.00        19\n",
      "\n",
      "    accuracy                           0.82       200\n",
      "   macro avg       0.64      0.55      0.55       200\n",
      "weighted avg       0.75      0.82      0.77       200\n",
      "\n"
     ]
    }
   ],
   "source": [
    "# Support Vector classifier\n",
    "svc=SVC(kernel='poly')\n",
    "svc.fit(x_train,y_train)\n",
    "svc.score(x_train,y_train)\n",
    "predsvc=svc.predict(x_test)\n",
    "print(accuracy_score(y_test,predsvc))\n",
    "print(confusion_matrix(y_test,predsvc))\n",
    "print(classification_report(y_test,predsvc))"
   ]
  },
  {
   "cell_type": "code",
   "execution_count": 50,
   "id": "42e41908",
   "metadata": {},
   "outputs": [
    {
     "data": {
      "text/plain": [
       "0.8227247890231316"
      ]
     },
     "execution_count": 50,
     "metadata": {},
     "output_type": "execute_result"
    }
   ],
   "source": [
    "cv_score=cross_val_score(svc,x,y,cv=5)\n",
    "cv_mean=cv_score.mean()\n",
    "cv_mean"
   ]
  },
  {
   "cell_type": "raw",
   "id": "0b598685",
   "metadata": {},
   "source": [
    "We achieve the best results using — ‘Support Vector Classifier’, which provides an accuracy of 100% on test data. "
   ]
  },
  {
   "cell_type": "markdown",
   "id": "f21189c7",
   "metadata": {},
   "source": [
    "###        Random Forest Classifier:Hyperparameter Tuning:GRidSearch CV,Model Development,Cross validation"
   ]
  },
  {
   "cell_type": "code",
   "execution_count": 51,
   "id": "0a2e7fd2",
   "metadata": {},
   "outputs": [
    {
     "name": "stdout",
     "output_type": "stream",
     "text": [
      "{'criterion': 'gini', 'n_estimators': 100}\n",
      "0.9081909899110979\n"
     ]
    }
   ],
   "source": [
    "parameters={'n_estimators':[100],'criterion':['gini','entropy']}\n",
    "rf=RandomForestClassifier()\n",
    "\n",
    "clf=GridSearchCV(rf,parameters)\n",
    "clf.fit(x_train,y_train)\n",
    "print(clf.best_params_)\n",
    "best_result=clf.best_score_\n",
    "print(best_result)"
   ]
  },
  {
   "cell_type": "code",
   "execution_count": 52,
   "id": "ad38c553",
   "metadata": {
    "scrolled": true
   },
   "outputs": [
    {
     "name": "stdout",
     "output_type": "stream",
     "text": [
      "0.89\n",
      "[[10  3  0  0  0  0  0  0]\n",
      " [ 3 47  0  0  0  2  0  0]\n",
      " [ 0  1  9  5  0  1  0  0]\n",
      " [ 0  0  0 55  0  0  0  0]\n",
      " [ 0  0  0  2  0  0  0  0]\n",
      " [ 0  1  3  1  0  1  0  0]\n",
      " [ 0  0  0  0  0  0 37  0]\n",
      " [ 0  0  0  0  0  0  0 19]]\n",
      "              precision    recall  f1-score   support\n",
      "\n",
      "           0       0.77      0.77      0.77        13\n",
      "           1       0.90      0.90      0.90        52\n",
      "           2       0.75      0.56      0.64        16\n",
      "           3       0.87      1.00      0.93        55\n",
      "           4       0.00      0.00      0.00         2\n",
      "           5       0.25      0.17      0.20         6\n",
      "           6       1.00      1.00      1.00        37\n",
      "           7       1.00      1.00      1.00        19\n",
      "\n",
      "    accuracy                           0.89       200\n",
      "   macro avg       0.69      0.68      0.68       200\n",
      "weighted avg       0.87      0.89      0.88       200\n",
      "\n"
     ]
    }
   ],
   "source": [
    "rf=RandomForestClassifier(n_estimators=100,criterion='gini')\n",
    "#rf.RandomForestClassifier()\n",
    "rf.fit(x_train,y_train)\n",
    "rf.score(x_train,y_train)\n",
    "predrf=rf.predict(x_test)\n",
    "print(accuracy_score(y_test,predrf))\n",
    "print(confusion_matrix(y_test,predrf))\n",
    "print(classification_report(y_test,predrf))"
   ]
  },
  {
   "cell_type": "code",
   "execution_count": 53,
   "id": "bdf040ee",
   "metadata": {},
   "outputs": [
    {
     "name": "stdout",
     "output_type": "stream",
     "text": [
      "[0.89010989 0.92307692 0.91758242 0.90607735 0.91712707]\n",
      "0.9107947301317466\n",
      "0.011722967338085742\n"
     ]
    }
   ],
   "source": [
    "score=cross_val_score(rf,x,y,cv=5)\n",
    "print(score)\n",
    "print(score.mean())\n",
    "print(score.std())"
   ]
  },
  {
   "cell_type": "raw",
   "id": "22e22a75",
   "metadata": {},
   "source": [
    "### rf=RandomForestClassifier()\n",
    "\n",
    "#we are getting gd model accuracy 89 Cross validation Score 91 Hyperparameter tuning Grid Search CV Score 90 which is best.\n",
    "#so our model performing extremely well.\n",
    " \n",
    "#since cross validation score accuracy score are almost same.we are heading with a good approach."
   ]
  },
  {
   "cell_type": "markdown",
   "id": "fd91245d",
   "metadata": {},
   "source": [
    "### Saving Best Model"
   ]
  },
  {
   "cell_type": "code",
   "execution_count": 54,
   "id": "8316216e",
   "metadata": {},
   "outputs": [],
   "source": [
    "# We further proceed to test the object that we saved using joblib or pickle, and create a dataframe of predicted values. \n",
    "import pickle \n",
    "filename='Census_Income.pkl'\n",
    "pickle.dump(rf,open(filename,'wb'))"
   ]
  },
  {
   "cell_type": "markdown",
   "id": "a19c0019",
   "metadata": {},
   "source": [
    "### Conclusion:"
   ]
  },
  {
   "cell_type": "code",
   "execution_count": 55,
   "id": "3b7bd6ab",
   "metadata": {},
   "outputs": [
    {
     "data": {
      "text/html": [
       "<div>\n",
       "<style scoped>\n",
       "    .dataframe tbody tr th:only-of-type {\n",
       "        vertical-align: middle;\n",
       "    }\n",
       "\n",
       "    .dataframe tbody tr th {\n",
       "        vertical-align: top;\n",
       "    }\n",
       "\n",
       "    .dataframe thead th {\n",
       "        text-align: right;\n",
       "    }\n",
       "</style>\n",
       "<table border=\"1\" class=\"dataframe\">\n",
       "  <thead>\n",
       "    <tr style=\"text-align: right;\">\n",
       "      <th></th>\n",
       "      <th>Original</th>\n",
       "      <th>Predicted</th>\n",
       "    </tr>\n",
       "  </thead>\n",
       "  <tbody>\n",
       "    <tr>\n",
       "      <th>0</th>\n",
       "      <td>6</td>\n",
       "      <td>6</td>\n",
       "    </tr>\n",
       "    <tr>\n",
       "      <th>1</th>\n",
       "      <td>3</td>\n",
       "      <td>3</td>\n",
       "    </tr>\n",
       "    <tr>\n",
       "      <th>2</th>\n",
       "      <td>1</td>\n",
       "      <td>1</td>\n",
       "    </tr>\n",
       "    <tr>\n",
       "      <th>3</th>\n",
       "      <td>7</td>\n",
       "      <td>7</td>\n",
       "    </tr>\n",
       "    <tr>\n",
       "      <th>4</th>\n",
       "      <td>3</td>\n",
       "      <td>3</td>\n",
       "    </tr>\n",
       "    <tr>\n",
       "      <th>...</th>\n",
       "      <td>...</td>\n",
       "      <td>...</td>\n",
       "    </tr>\n",
       "    <tr>\n",
       "      <th>195</th>\n",
       "      <td>2</td>\n",
       "      <td>2</td>\n",
       "    </tr>\n",
       "    <tr>\n",
       "      <th>196</th>\n",
       "      <td>6</td>\n",
       "      <td>6</td>\n",
       "    </tr>\n",
       "    <tr>\n",
       "      <th>197</th>\n",
       "      <td>1</td>\n",
       "      <td>1</td>\n",
       "    </tr>\n",
       "    <tr>\n",
       "      <th>198</th>\n",
       "      <td>1</td>\n",
       "      <td>1</td>\n",
       "    </tr>\n",
       "    <tr>\n",
       "      <th>199</th>\n",
       "      <td>6</td>\n",
       "      <td>6</td>\n",
       "    </tr>\n",
       "  </tbody>\n",
       "</table>\n",
       "<p>200 rows × 2 columns</p>\n",
       "</div>"
      ],
      "text/plain": [
       "     Original  Predicted\n",
       "0           6          6\n",
       "1           3          3\n",
       "2           1          1\n",
       "3           7          7\n",
       "4           3          3\n",
       "..        ...        ...\n",
       "195         2          2\n",
       "196         6          6\n",
       "197         1          1\n",
       "198         1          1\n",
       "199         6          6\n",
       "\n",
       "[200 rows x 2 columns]"
      ]
     },
     "execution_count": 55,
     "metadata": {},
     "output_type": "execute_result"
    }
   ],
   "source": [
    "# Following are the results that we achieve, with an accuracy of 89%.\n",
    "import numpy as np\n",
    "a=np.array(y_test)\n",
    "predicted=np.array(rf.predict(x_test))\n",
    "df_result=pd.DataFrame({'Original':a,'Predicted':predicted},index=range(len(a)))\n",
    "df_result"
   ]
  },
  {
   "cell_type": "code",
   "execution_count": 56,
   "id": "77f18e3b",
   "metadata": {},
   "outputs": [
    {
     "data": {
      "text/plain": [
       "<seaborn.axisgrid.PairGrid at 0x16c1bcd67c0>"
      ]
     },
     "execution_count": 56,
     "metadata": {},
     "output_type": "execute_result"
    },
    {
     "data": {
      "image/png": "[encoded data removed]",
      "text/plain": [
       "<Figure size 360x360 with 6 Axes>"
      ]
     },
     "metadata": {
      "needs_background": "light"
     },
     "output_type": "display_data"
    }
   ],
   "source": [
    "# This marks the end of our process; \n",
    "# we have successfully trained our model to predict the income of a person, with an accuracy of ~89%\n",
    "sns.pairplot(df_result)"
   ]
  },
  {
   "cell_type": "markdown",
   "id": "932c8f66",
   "metadata": {},
   "source": [
    "### Now we use capacity_mw as a target column to predict data. By using Linear Regression"
   ]
  },
  {
   "cell_type": "code",
   "execution_count": 57,
   "id": "3473c1b0",
   "metadata": {},
   "outputs": [
    {
     "data": {
      "text/plain": [
       "count     908.000000\n",
       "mean      321.046378\n",
       "std       580.221767\n",
       "min         0.000000\n",
       "25%        16.837500\n",
       "50%        60.000000\n",
       "75%       388.125000\n",
       "max      4760.000000\n",
       "Name: capacity_mw, dtype: float64"
      ]
     },
     "execution_count": 57,
     "metadata": {},
     "output_type": "execute_result"
    }
   ],
   "source": [
    "df['capacity_mw'].describe() # in capacity_mw column there is continous data so we need to use regression model."
   ]
  },
  {
   "cell_type": "code",
   "execution_count": 58,
   "id": "e35f4fb5",
   "metadata": {},
   "outputs": [],
   "source": [
    "# train-test -Split\n",
    "x=df.drop(columns='capacity_mw')\n",
    "y=df['capacity_mw']"
   ]
  },
  {
   "cell_type": "markdown",
   "id": "c6828d5a",
   "metadata": {},
   "source": [
    "### Standard Scaler\n",
    "The next step is to bring the data to a common scale, since there are certain columns with very small values and some columns\n",
    "with high values. This process is important as values on a similar scale allow the model to learn better.\n",
    "We use standard scaler for this process"
   ]
  },
  {
   "cell_type": "raw",
   "id": "22418474",
   "metadata": {},
   "source": [
    "from sklearn.preprocessing import StandardScaler\n",
    "scale=StandardScaler()\n",
    "x=scale.fit_transform(x)\n",
    "x=pd.DataFrame(x)\n",
    "x_train,x_test,y_train,y_test=train_test_split(x,y,test_size=.22,random_state=140)"
   ]
  },
  {
   "cell_type": "code",
   "execution_count": 59,
   "id": "381c9cc5",
   "metadata": {},
   "outputs": [],
   "source": [
    "x_train,x_test,y_train,y_test=train_test_split(x,y,test_size=0.20,random_state=13)"
   ]
  },
  {
   "cell_type": "code",
   "execution_count": 60,
   "id": "0245a9e1",
   "metadata": {},
   "outputs": [],
   "source": [
    "from sklearn.linear_model import LinearRegression\n",
    "from sklearn.metrics import r2_score\n",
    "from sklearn.metrics import mean_squared_error,mean_absolute_error\n",
    "\n",
    "import warnings\n",
    "warnings.filterwarnings(\"ignore\")"
   ]
  },
  {
   "cell_type": "code",
   "execution_count": 61,
   "id": "fb68a7f8",
   "metadata": {},
   "outputs": [
    {
     "data": {
      "text/plain": [
       "LinearRegression()"
      ]
     },
     "execution_count": 61,
     "metadata": {},
     "output_type": "execute_result"
    }
   ],
   "source": [
    "lr=LinearRegression()\n",
    "\n",
    "lr.fit(x_train,y_train)"
   ]
  },
  {
   "cell_type": "code",
   "execution_count": 62,
   "id": "08f9e500",
   "metadata": {},
   "outputs": [
    {
     "data": {
      "text/plain": [
       "array([-2.91158627e-02,  1.52930501e-01, -1.13093735e+00, -7.76814928e+00,\n",
       "       -2.64816217e+01, -1.04398607e+02,  3.61076371e+00,  3.07453035e-01,\n",
       "       -7.49117701e-01,  2.01867136e-01, -2.75416659e+01,  2.17618156e-02,\n",
       "        1.13127880e-02, -3.62641441e-02,  4.48796151e-02,  1.05914489e-01,\n",
       "       -5.25706418e+02])"
      ]
     },
     "execution_count": 62,
     "metadata": {},
     "output_type": "execute_result"
    }
   ],
   "source": [
    "lr.coef_"
   ]
  },
  {
   "cell_type": "code",
   "execution_count": 63,
   "id": "80dcaef0",
   "metadata": {},
   "outputs": [
    {
     "data": {
      "text/plain": [
       "-6049.364450507614"
      ]
     },
     "execution_count": 63,
     "metadata": {},
     "output_type": "execute_result"
    }
   ],
   "source": [
    "lr.intercept_"
   ]
  },
  {
   "cell_type": "code",
   "execution_count": 64,
   "id": "e568e22f",
   "metadata": {},
   "outputs": [
    {
     "data": {
      "text/plain": [
       "0.8536962716842222"
      ]
     },
     "execution_count": 64,
     "metadata": {},
     "output_type": "execute_result"
    }
   ],
   "source": [
    "lr.score(x_train,y_train) #we got Model learning score is very best which is best for further Prediction"
   ]
  },
  {
   "cell_type": "code",
   "execution_count": 65,
   "id": "1caba952",
   "metadata": {},
   "outputs": [
    {
     "name": "stdout",
     "output_type": "stream",
     "text": [
      "0.8422056220345849\n"
     ]
    }
   ],
   "source": [
    "pred=lr.predict(x_test)\n",
    "print(r2_score(y_test,pred))"
   ]
  },
  {
   "cell_type": "code",
   "execution_count": 66,
   "id": "8c471a6d",
   "metadata": {},
   "outputs": [],
   "source": [
    "from sklearn.model_selection import GridSearchCV\n",
    "from sklearn.model_selection import cross_val_score\n",
    "from sklearn.linear_model import LinearRegression,Ridge,Lasso\n",
    "from sklearn.neighbors import KNeighborsRegressor\n",
    "from sklearn.tree import DecisionTreeRegressor\n",
    "from sklearn.ensemble import RandomForestRegressor\n",
    "from sklearn.svm import SVR\n",
    "\n",
    "\n",
    "import warnings\n",
    "warnings.filterwarnings('ignore')"
   ]
  },
  {
   "cell_type": "markdown",
   "id": "cc8adf0e",
   "metadata": {},
   "source": [
    "### Regularization:GridSearchCV:Cross Validation Score: Lasso"
   ]
  },
  {
   "cell_type": "code",
   "execution_count": 67,
   "id": "835c675e",
   "metadata": {},
   "outputs": [
    {
     "name": "stdout",
     "output_type": "stream",
     "text": [
      "{'alpha': 1, 'random_state': 0}\n",
      "Best r2 score: 0.8303929789619822\n"
     ]
    }
   ],
   "source": [
    "parameters={'alpha':[.0001,.001,.01,.1,1,10],'random_state':list(range(0,10))}\n",
    "ls=Lasso()\n",
    "clf=GridSearchCV(ls,parameters)\n",
    "clf.fit(x_train,y_train)\n",
    "print(clf.best_params_)\n",
    "\n",
    "best_result=clf.best_score_\n",
    "print('Best r2 score:',best_result)"
   ]
  },
  {
   "cell_type": "code",
   "execution_count": 68,
   "id": "8af7cb0a",
   "metadata": {},
   "outputs": [
    {
     "data": {
      "text/plain": [
       "0.8438132465406165"
      ]
     },
     "execution_count": 68,
     "metadata": {},
     "output_type": "execute_result"
    }
   ],
   "source": [
    "ls=Lasso(alpha=1,random_state=0)\n",
    "ls.fit(x_train,y_train)\n",
    "ls.score(x_train,y_train)\n",
    "pred_ls=ls.predict(x_test)\n",
    "\n",
    "lss=r2_score(y_test,pred_ls)\n",
    "lss"
   ]
  },
  {
   "cell_type": "code",
   "execution_count": 69,
   "id": "1a7df51e",
   "metadata": {},
   "outputs": [
    {
     "data": {
      "text/plain": [
       "0.834029250125424"
      ]
     },
     "execution_count": 69,
     "metadata": {},
     "output_type": "execute_result"
    }
   ],
   "source": [
    "cv_score=cross_val_score(ls,x,y,cv=5)\n",
    "cv_mean=cv_score.mean()\n",
    "cv_mean"
   ]
  },
  {
   "cell_type": "markdown",
   "id": "94a2fc96",
   "metadata": {},
   "source": [
    "### Regularization:GridSearchCV:Cross Validation Score:-Ridge"
   ]
  },
  {
   "cell_type": "code",
   "execution_count": 70,
   "id": "ba9cac3a",
   "metadata": {},
   "outputs": [
    {
     "name": "stdout",
     "output_type": "stream",
     "text": [
      "{'alpha': 0.0001, 'random_state': 0}\n",
      "Best R2 Score : 0.8303650199930201\n"
     ]
    }
   ],
   "source": [
    "parameters={'alpha':[.0001,.001,.01,.1,1,10],'random_state':list(range(0,10))} #For Ridge \n",
    "rd=Ridge()\n",
    "clf=GridSearchCV(rd,parameters)\n",
    "clf.fit(x_train,y_train)\n",
    "print(clf.best_params_)\n",
    "\n",
    "best_result=clf.best_score_\n",
    "print(\"Best R2 Score :\",best_result)"
   ]
  },
  {
   "cell_type": "code",
   "execution_count": 71,
   "id": "fc008ef5",
   "metadata": {},
   "outputs": [
    {
     "data": {
      "text/plain": [
       "0.8422063786075165"
      ]
     },
     "execution_count": 71,
     "metadata": {},
     "output_type": "execute_result"
    }
   ],
   "source": [
    "rd=Ridge(alpha=0.01,random_state=0)\n",
    "rd.fit(x_train,y_train)\n",
    "rd.score(x_train,y_train)\n",
    "pred_rd=rd.predict(x_test)\n",
    "\n",
    "rds=r2_score(y_test,pred_rd)\n",
    "rds"
   ]
  },
  {
   "cell_type": "code",
   "execution_count": 72,
   "id": "13b62c6a",
   "metadata": {},
   "outputs": [
    {
     "data": {
      "text/plain": [
       "0.8340205292370119"
      ]
     },
     "execution_count": 72,
     "metadata": {},
     "output_type": "execute_result"
    }
   ],
   "source": [
    "cv_score=cross_val_score(rd,x,y,cv=5)\n",
    "cv_mean=cv_score.mean()\n",
    "cv_mean"
   ]
  },
  {
   "cell_type": "markdown",
   "id": "32688518",
   "metadata": {},
   "source": [
    "### KNeighborsRegressor : Model,GridSearchCV,Cross Validation Score"
   ]
  },
  {
   "cell_type": "code",
   "execution_count": 73,
   "id": "d78c0feb",
   "metadata": {},
   "outputs": [
    {
     "name": "stdout",
     "output_type": "stream",
     "text": [
      "{'algorithm': 'auto', 'n_neighbors': 5, 'weights': 'distance'}\n",
      "Best R2 Score : 0.8429335877465574\n"
     ]
    }
   ],
   "source": [
    "parameters={'n_neighbors':[5],'weights':['uniform','distance'],'algorithm':['auto','ball_tree','kd_tree','brute']}  \n",
    "knr=KNeighborsRegressor()  \n",
    "\n",
    "clf=GridSearchCV(knr,parameters)\n",
    "clf.fit(x_train,y_train)\n",
    "print(clf.best_params_)\n",
    "\n",
    "best_result=clf.best_score_\n",
    "print(\"Best R2 Score :\",best_result)"
   ]
  },
  {
   "cell_type": "code",
   "execution_count": 74,
   "id": "a5548072",
   "metadata": {},
   "outputs": [
    {
     "name": "stdout",
     "output_type": "stream",
     "text": [
      "R2 Score : 81.59254027711201\n",
      "Cross val Score : 82.56222866953074\n"
     ]
    }
   ],
   "source": [
    "from sklearn.neighbors import KNeighborsRegressor\n",
    "knr=KNeighborsRegressor(algorithm='auto',n_neighbors=5,weights='distance')\n",
    "knr.fit(x_train,y_train)\n",
    "knr.score(x_train,y_train)\n",
    "pred_decision=knr.predict(x_test)\n",
    "\n",
    "kn=r2_score(y_test,pred_decision)\n",
    "print('R2 Score :',kn*100)\n",
    "\n",
    "krscore=cross_val_score(knr,x,y,cv=5)\n",
    "kns=krscore.mean()\n",
    "print(\"Cross val Score :\",kns*100)"
   ]
  },
  {
   "cell_type": "markdown",
   "id": "93602db7",
   "metadata": {},
   "source": [
    "### Support Vector Regression:Model,GridSearchCV,Cross Validation Score"
   ]
  },
  {
   "cell_type": "raw",
   "id": "9b89ecf8",
   "metadata": {},
   "source": [
    "from sklearn.svm import SVR\n",
    "\n",
    "parameters={'kernel':['linear','poly','rbf'],'gamma':['auto','scale']}\n",
    "\n",
    "svr=SVR() \n",
    "\n",
    "clf=GridSearchCV(svr,parameters)\n",
    "clf.fit(x_train,y_train)\n",
    "print(clf.best_params_)\n",
    "\n",
    "best_result=clf.best_score_\n",
    "print(\"Best R2 Score :\",best_result)"
   ]
  },
  {
   "cell_type": "code",
   "execution_count": 75,
   "id": "a18f65a5",
   "metadata": {},
   "outputs": [
    {
     "name": "stdout",
     "output_type": "stream",
     "text": [
      "R2 Score : 79.05065980646332\n"
     ]
    }
   ],
   "source": [
    "from sklearn.svm import SVR\n",
    "\n",
    "svr=SVR(kernel='linear',gamma='auto')\n",
    "svr.fit(x_train,y_train)\n",
    "svr.score(x_train,y_train)\n",
    "pred_decision=svr.predict(x_test)\n",
    "\n",
    "rfs=r2_score(y_test,pred_decision)\n",
    "print('R2 Score :',rfs*100)"
   ]
  },
  {
   "cell_type": "raw",
   "id": "6f0c90cb",
   "metadata": {},
   "source": [
    "rftscore=cross_val_score(svr,x,y,cv=5)\n",
    "rfc=rftscore.mean()\n",
    "print(\"Cross val Score :\",rfc*100)"
   ]
  },
  {
   "cell_type": "markdown",
   "id": "3a300f92",
   "metadata": {},
   "source": [
    "### RandomForestRegressor: Model,GridSearchCV,Cross Validation Score"
   ]
  },
  {
   "cell_type": "code",
   "execution_count": 76,
   "id": "bf0075ad",
   "metadata": {},
   "outputs": [
    {
     "name": "stdout",
     "output_type": "stream",
     "text": [
      "{'max_features': 'sqrt', 'n_estimators': 100}\n",
      "Best R2 Score : 0.860675890067429\n"
     ]
    }
   ],
   "source": [
    "from sklearn.ensemble import RandomForestRegressor\n",
    "\n",
    "parameters={'n_estimators':[100],'max_features':['auto','sqrt','log2']}\n",
    "\n",
    "rfr=RandomForestRegressor() \n",
    "\n",
    "clf=GridSearchCV(rfr,parameters)\n",
    "clf.fit(x_train,y_train)\n",
    "print(clf.best_params_)\n",
    "\n",
    "best_result=clf.best_score_\n",
    "print(\"Best R2 Score :\",best_result)"
   ]
  },
  {
   "cell_type": "raw",
   "id": "96a9db80",
   "metadata": {},
   "source": [
    "rfr=RandomForestRegressor()\n",
    "we are getting model accuracy and cross validation nearby good in other model so our model is performing extremely well.\n",
    "KNeighborsRegressor"
   ]
  },
  {
   "cell_type": "code",
   "execution_count": 77,
   "id": "97fcfbcc",
   "metadata": {},
   "outputs": [
    {
     "name": "stdout",
     "output_type": "stream",
     "text": [
      "R2 Score : 85.16254319989895\n",
      "Cross val Score : 84.76277467499325\n"
     ]
    }
   ],
   "source": [
    "from sklearn.ensemble import RandomForestRegressor\n",
    "\n",
    "rfr=RandomForestRegressor(n_estimators=100,max_features='log2')\n",
    "rfr.fit(x_train,y_train)\n",
    "rfr.score(x_train,y_train)\n",
    "pred_decision=rfr.predict(x_test)\n",
    "\n",
    "rfs=r2_score(y_test,pred_decision)\n",
    "print('R2 Score :',rfs*100)\n",
    "\n",
    "rftscore=cross_val_score(rfr,x,y,cv=5)\n",
    "rfc=rftscore.mean()\n",
    "print(\"Cross val Score :\",rfc*100)"
   ]
  },
  {
   "cell_type": "raw",
   "id": "c30a929e",
   "metadata": {},
   "source": [
    " rfr=RandomForestRegressor()\n",
    "\n",
    "we are getting rfr model accuracy R2 Score 85 Cross validation Score 84 Hyperparameter tuning Grid Search CV Score 86 \n",
    "which is best.so our model performing extremely well.\n",
    " \n",
    "since cross validation score accuracy score are almost same.we are heading with a good approach."
   ]
  },
  {
   "cell_type": "markdown",
   "id": "593fc0bb",
   "metadata": {},
   "source": [
    "### Saving Model"
   ]
  },
  {
   "cell_type": "code",
   "execution_count": 78,
   "id": "fa67b8c0",
   "metadata": {},
   "outputs": [],
   "source": [
    "import pickle \n",
    "filename='Global_Power_Plant.pkl'\n",
    "pickle.dump(rfr,open(filename,'wb'))"
   ]
  },
  {
   "cell_type": "markdown",
   "id": "2bd701c3",
   "metadata": {},
   "source": [
    "### Conclusion:"
   ]
  },
  {
   "cell_type": "code",
   "execution_count": 79,
   "id": "255378e7",
   "metadata": {},
   "outputs": [
    {
     "name": "stdout",
     "output_type": "stream",
     "text": [
      "0.8516254319989895\n"
     ]
    }
   ],
   "source": [
    "loaded_model=pickle.load(open('Global_Power_Plant.pkl','rb'))\n",
    "result=loaded_model.score(x_test,y_test)\n",
    "print(result)"
   ]
  },
  {
   "cell_type": "code",
   "execution_count": 80,
   "id": "ae58606a",
   "metadata": {},
   "outputs": [
    {
     "data": {
      "text/html": [
       "<div>\n",
       "<style scoped>\n",
       "    .dataframe tbody tr th:only-of-type {\n",
       "        vertical-align: middle;\n",
       "    }\n",
       "\n",
       "    .dataframe tbody tr th {\n",
       "        vertical-align: top;\n",
       "    }\n",
       "\n",
       "    .dataframe thead th {\n",
       "        text-align: right;\n",
       "    }\n",
       "</style>\n",
       "<table border=\"1\" class=\"dataframe\">\n",
       "  <thead>\n",
       "    <tr style=\"text-align: right;\">\n",
       "      <th></th>\n",
       "      <th>Original</th>\n",
       "      <th>Predicted</th>\n",
       "    </tr>\n",
       "  </thead>\n",
       "  <tbody>\n",
       "    <tr>\n",
       "      <th>0</th>\n",
       "      <td>40.0</td>\n",
       "      <td>46.8100</td>\n",
       "    </tr>\n",
       "    <tr>\n",
       "      <th>1</th>\n",
       "      <td>1.5</td>\n",
       "      <td>46.6710</td>\n",
       "    </tr>\n",
       "    <tr>\n",
       "      <th>2</th>\n",
       "      <td>1050.0</td>\n",
       "      <td>1236.5820</td>\n",
       "    </tr>\n",
       "    <tr>\n",
       "      <th>3</th>\n",
       "      <td>90.0</td>\n",
       "      <td>181.1275</td>\n",
       "    </tr>\n",
       "    <tr>\n",
       "      <th>4</th>\n",
       "      <td>4.0</td>\n",
       "      <td>11.1565</td>\n",
       "    </tr>\n",
       "    <tr>\n",
       "      <th>...</th>\n",
       "      <td>...</td>\n",
       "      <td>...</td>\n",
       "    </tr>\n",
       "    <tr>\n",
       "      <th>177</th>\n",
       "      <td>100.0</td>\n",
       "      <td>96.7755</td>\n",
       "    </tr>\n",
       "    <tr>\n",
       "      <th>178</th>\n",
       "      <td>150.0</td>\n",
       "      <td>106.3210</td>\n",
       "    </tr>\n",
       "    <tr>\n",
       "      <th>179</th>\n",
       "      <td>28.2</td>\n",
       "      <td>14.9310</td>\n",
       "    </tr>\n",
       "    <tr>\n",
       "      <th>180</th>\n",
       "      <td>11.2</td>\n",
       "      <td>11.6370</td>\n",
       "    </tr>\n",
       "    <tr>\n",
       "      <th>181</th>\n",
       "      <td>16.5</td>\n",
       "      <td>24.2320</td>\n",
       "    </tr>\n",
       "  </tbody>\n",
       "</table>\n",
       "<p>182 rows × 2 columns</p>\n",
       "</div>"
      ],
      "text/plain": [
       "     Original  Predicted\n",
       "0        40.0    46.8100\n",
       "1         1.5    46.6710\n",
       "2      1050.0  1236.5820\n",
       "3        90.0   181.1275\n",
       "4         4.0    11.1565\n",
       "..        ...        ...\n",
       "177     100.0    96.7755\n",
       "178     150.0   106.3210\n",
       "179      28.2    14.9310\n",
       "180      11.2    11.6370\n",
       "181      16.5    24.2320\n",
       "\n",
       "[182 rows x 2 columns]"
      ]
     },
     "execution_count": 80,
     "metadata": {},
     "output_type": "execute_result"
    }
   ],
   "source": [
    "# Following are the results that we achieve, with an accuracy of 85%.\n",
    "import numpy as np\n",
    "a=np.array(y_test)\n",
    "predicted=np.array(rfr.predict(x_test))\n",
    "df=pd.DataFrame({'Original':a,'Predicted':predicted},index=range(len(a)))\n",
    "df"
   ]
  },
  {
   "cell_type": "code",
   "execution_count": 81,
   "id": "75c38836",
   "metadata": {},
   "outputs": [
    {
     "data": {
      "text/plain": [
       "<seaborn.axisgrid.PairGrid at 0x16c1bca60a0>"
      ]
     },
     "execution_count": 81,
     "metadata": {},
     "output_type": "execute_result"
    },
    {
     "data": {
      "image/png": "[encoded data removed]",
      "text/plain": [
       "<Figure size 360x360 with 6 Axes>"
      ]
     },
     "metadata": {
      "needs_background": "light"
     },
     "output_type": "display_data"
    }
   ],
   "source": [
    "# This marks the end of our process\n",
    "# we have successfully trained our model to predict the income of a person, with an accuracy of ~85%\n",
    "sns.pairplot(df)\n"
   ]
  },
  {
   "cell_type": "raw",
   "id": "bf00b117",
   "metadata": {},
   "source": []
  }
 ],
 "metadata": {
  "kernelspec": {
   "display_name": "Python 3",
   "language": "python",
   "name": "python3"
  },
  "language_info": {
   "codemirror_mode": {
    "name": "ipython",
    "version": 3
   },
   "file_extension": ".py",
   "mimetype": "text/x-python",
   "name": "python",
   "nbconvert_exporter": "python",
   "pygments_lexer": "ipython3",
   "version": "3.8.8"
  }
 },
 "nbformat": 4,
 "nbformat_minor": 5
}
